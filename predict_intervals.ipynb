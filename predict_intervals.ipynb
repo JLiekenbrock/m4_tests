{
 "cells": [
  {
   "cell_type": "code",
   "execution_count": null,
   "metadata": {
    "vscode": {
     "languageId": "plaintext"
    }
   },
   "outputs": [],
   "source": [
    "from mapie.metrics import (coverage_width_based, regression_coverage_score,\n",
    "                           regression_mean_width_score)\n",
    "from mapie.regression import MapieTimeSeriesRegressor\n",
    "from mapie.subsample import BlockBootstrap\n",
    "\n",
    "from mapie.metrics import regression_coverage_score\n",
    "from mapie.regression import MapieQuantileRegressor, MapieRegressor\n"
   ]
  },
  {
   "cell_type": "code",
   "execution_count": null,
   "metadata": {
    "vscode": {
     "languageId": "plaintext"
    }
   },
   "outputs": [],
   "source": [
    "X_train = train\n",
    "X_test = test\n",
    "y_train = train[\"y\"]\n",
    "y_test = test[\"y\"]\n",
    "\n",
    "cv_mapiets = BlockBootstrap(\n",
    "    n_resamplings=10, n_blocks=10, overlapping=False, random_state=59\n",
    ")\n",
    "model = TimeMoEPredictor(input_length=24,device=\"cpu\",h=3,test=test)\n",
    "\n",
    "list_estimators_cqr = [model,model,model]\n",
    "\n",
    "mapie_enbpi = MapieTimeSeriesRegressor(\n",
    "    model, method=\"enbpi\", cv=\"prefit\", agg_function=\"mean\", n_jobs=-1\n",
    ")\n",
    "\n",
    "mapie_enbpi = mapie_enbpi.fit(X_test, y_test)\n",
    "\n",
    "y_pred_enbpi_npfit, y_pis_enbpi_npfit = mapie_enbpi.predict(X_test, alpha=0.1)\n",
    "\n",
    "y_pis_enbpi_npfit = np.clip(y_pis_enbpi_npfit, 1, 10)\n",
    "coverage_enbpi_npfit = regression_coverage_score(\n",
    "    y_test, y_pis_enbpi_npfit[:, 0, 0], y_pis_enbpi_npfit[:, 1, 0]\n",
    ")\n",
    "width_enbpi_npfit = regression_mean_width_score(\n",
    "    y_pis_enbpi_npfit[:, 0, 0], y_pis_enbpi_npfit[:, 1, 0]\n",
    ")\n",
    "cwc_enbpi_npfit = coverage_width_based(\n",
    "    y_test, y_pis_enbpi_npfit[:, 0, 0],\n",
    "    y_pis_enbpi_npfit[:, 1, 0],\n",
    "    eta=10,\n",
    "    alpha=0.05\n",
    ")\n"
   ]
  },
  {
   "cell_type": "code",
   "execution_count": null,
   "metadata": {
    "vscode": {
     "languageId": "plaintext"
    }
   },
   "outputs": [],
   "source": [
    "y_enbpi_preds = [y_pred_enbpi_npfit]\n",
    "y_enbpi_pis = [y_pis_enbpi_npfit]\n",
    "coverages_enbpi = [coverage_enbpi_npfit]\n",
    "widths_enbpi = [width_enbpi_npfit]\n",
    "\n",
    "fig, axs = plt.subplots(\n",
    "    nrows=2, ncols=1, figsize=(14, 8), sharey=\"row\", sharex=\"col\"\n",
    ")\n",
    "for i, (ax, w) in enumerate(zip(axs, [\"without\", \"with\"])):\n",
    "    ax.set_ylabel(\"Hourly demand (GW)\")\n",
    "    ax.plot(\n",
    "        y_train[int(-len(y_test)/2):],\n",
    "        lw=2,\n",
    "        label=\"Training data\", c=\"C0\"\n",
    "    )\n",
    "    ax.plot(y_test, lw=2, label=\"Test data\", c=\"C1\")\n",
    "\n",
    "    ax.plot(\n",
    "        y_test.index, y_enbpi_preds[i], lw=2, c=\"C2\", label=\"Predictions\"\n",
    "    )\n",
    "    ax.fill_between(\n",
    "        y_test.index,\n",
    "        y_enbpi_pis[i][:, 0, 0],\n",
    "        y_enbpi_pis[i][:, 1, 0],\n",
    "        color=\"C2\",\n",
    "        alpha=0.2,\n",
    "        label=\"Prediction intervals\",\n",
    "    )\n",
    "    title = f\"EnbPI, {w} update of residuals. \"\n",
    "    title += (f\"Coverage:{coverages_enbpi[i]:.3f} and \"\n",
    "              f\"Width:{widths_enbpi[i]:.3f}\")\n",
    "    ax.set_title(title)\n",
    "    ax.legend()\n",
    "fig.tight_layout()\n",
    "plt.show()\n",
    "\n",
    "fig, axs = plt.subplots(\n",
    "    nrows=2, ncols=1, figsize=(14, 8), sharey=\"row\", sharex=\"col\"\n",
    ")\n",
    "for i, (ax, w) in enumerate(zip(axs, [\"without\", \"with\"])):\n",
    "    ax.set_ylabel(\"Hourly demand (GW)\")\n",
    "    ax.plot(\n",
    "        y_train[int(-len(y_test)/2):],\n",
    "        lw=2,\n",
    "        label=\"Training data\", c=\"C0\"\n",
    "    )\n",
    "    ax.plot(y_test, lw=2, label=\"Test data\", c=\"C1\")\n",
    "\n",
    "    ax.plot(\n",
    "        y_test.index, y_aci_preds[i], lw=2, c=\"C2\", label=\"Predictions\"\n",
    "    )\n",
    "    ax.fill_between(\n",
    "        y_test.index,\n",
    "        y_aci_pis[i][:, 0, 0],\n",
    "        y_aci_pis[i][:, 1, 0],\n",
    "        color=\"C2\",\n",
    "        alpha=0.2,\n",
    "        label=\"Prediction intervals\",\n",
    "    )\n",
    "    title = f\"ACI, {w} update of residuals. \"\n",
    "    title += f\"Coverage:{coverages_aci[i]:.3f} and Width:{widths_aci[i]:.3f}\"\n",
    "    ax.set_title(title)\n",
    "    ax.legend()\n",
    "fig.tight_layout()\n",
    "plt.show()"
   ]
  }
 ],
 "metadata": {
  "language_info": {
   "name": "python"
  }
 },
 "nbformat": 4,
 "nbformat_minor": 2
}
