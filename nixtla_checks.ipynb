{
 "cells": [
  {
   "cell_type": "code",
   "execution_count": 1,
   "metadata": {},
   "outputs": [
    {
     "name": "stdout",
     "output_type": "stream",
     "text": [
      "Note: you may need to restart the kernel to use updated packages.\n"
     ]
    }
   ],
   "source": [
    "pip install -q -r requirements.txt"
   ]
  },
  {
   "cell_type": "code",
   "execution_count": 2,
   "metadata": {},
   "outputs": [],
   "source": [
    "import pandas as pd\n",
    "import time\n",
    "import numpy as np"
   ]
  },
  {
   "cell_type": "code",
   "execution_count": 3,
   "metadata": {},
   "outputs": [],
   "source": [
    "from datasetsforecast.m4 import M4"
   ]
  },
  {
   "cell_type": "code",
   "execution_count": 4,
   "metadata": {},
   "outputs": [],
   "source": [
    "group = 'Monthly'\n",
    "await M4.async_download('data', group=group)"
   ]
  },
  {
   "cell_type": "code",
   "execution_count": 5,
   "metadata": {},
   "outputs": [],
   "source": [
    "df, *_ = M4.load(directory='data', group=group)\n",
    "n_series = len(np.unique(df.unique_id.values))"
   ]
  },
  {
   "cell_type": "code",
   "execution_count": 6,
   "metadata": {},
   "outputs": [],
   "source": [
    "groups = np.random.choice(df[\"unique_id\"].unique(), size=1000, replace=False)"
   ]
  },
  {
   "cell_type": "code",
   "execution_count": 7,
   "metadata": {},
   "outputs": [],
   "source": [
    "df = df.set_index([\"unique_id\",\"ds\"]).sort_index().groupby(level=0).tail(48)\n",
    "\n",
    "df = df.loc[df.index.get_level_values('unique_id').isin(groups)].reset_index()"
   ]
  },
  {
   "cell_type": "code",
   "execution_count": 8,
   "metadata": {},
   "outputs": [
    {
     "name": "stderr",
     "output_type": "stream",
     "text": [
      "/tmp/ipykernel_208313/2645762365.py:1: FutureWarning: The provided callable <built-in function max> is currently using SeriesGroupBy.max. In a future version of pandas, the provided callable will be used directly. To keep current behavior pass the string \"max\" instead.\n",
      "  df[\"test\"] = df[\"ds\"]>df.groupby(\"unique_id\")[\"ds\"].transform(max)-3\n"
     ]
    }
   ],
   "source": [
    "df[\"test\"] = df[\"ds\"]>df.groupby(\"unique_id\")[\"ds\"].transform(max)-3"
   ]
  },
  {
   "cell_type": "code",
   "execution_count": 9,
   "metadata": {},
   "outputs": [],
   "source": [
    "train = df[df[\"test\"]==0].sort_values(by=[\"unique_id\",\"ds\"]).drop(columns=\"test\")\n",
    "test = df[df[\"test\"]==1].sort_values(by=[\"unique_id\",\"ds\"]).drop(columns=\"test\")"
   ]
  },
  {
   "cell_type": "code",
   "execution_count": 10,
   "metadata": {},
   "outputs": [
    {
     "name": "stderr",
     "output_type": "stream",
     "text": [
      "/home/jan/m4_tests/.venv/lib64/python3.12/site-packages/tqdm/auto.py:21: TqdmWarning: IProgress not found. Please update jupyter and ipywidgets. See https://ipywidgets.readthedocs.io/en/stable/user_install.html\n",
      "  from .autonotebook import tqdm as notebook_tqdm\n"
     ]
    }
   ],
   "source": [
    "from statsforecast import StatsForecast\n",
    "import time"
   ]
  },
  {
   "cell_type": "code",
   "execution_count": 11,
   "metadata": {},
   "outputs": [
    {
     "name": "stderr",
     "output_type": "stream",
     "text": [
      "2024-12-05 17:37:22,575\tINFO util.py:154 -- Missing packages: ['ipywidgets']. Run `pip install -U ipywidgets`, then restart the notebook server for rich notebook output.\n",
      "2024-12-05 17:37:22,616\tINFO util.py:154 -- Missing packages: ['ipywidgets']. Run `pip install -U ipywidgets`, then restart the notebook server for rich notebook output.\n"
     ]
    }
   ],
   "source": [
    "from statsforecast.models import (\n",
    "    HistoricAverage,\n",
    "    DynamicOptimizedTheta as DOT,\n",
    "    SeasonalNaive,\n",
    "    AutoARIMA,\n",
    "    AutoETS\n",
    ")\n",
    "from neuralforecast import NeuralForecast\n",
    "from neuralforecast.models import NBEATS\n",
    "from neuralforecast.losses.pytorch import DistributionLoss"
   ]
  },
  {
   "cell_type": "code",
   "execution_count": 12,
   "metadata": {},
   "outputs": [
    {
     "name": "stderr",
     "output_type": "stream",
     "text": [
      "INFO:lightning_fabric.utilities.seed:Seed set to 1\n"
     ]
    }
   ],
   "source": [
    "# Create a list of models and instantiation parameters\n",
    "model_names = [\"HistoricAverage\",\"DynamicOptimizedTheta\",\"SeasonalNaive\",\"AutoARIMA\",\"AutoETS\",\"NBEATS\"]\n",
    "\n",
    "season_length = 12\n",
    "\n",
    "models_classes_stats = [\n",
    "    HistoricAverage(),\n",
    "    DOT(season_length=season_length),\n",
    "    SeasonalNaive(season_length=season_length),\n",
    "    AutoARIMA(),\n",
    "    AutoETS()\n",
    "]\n",
    "\n",
    "model_classes_neural = [\n",
    "    NBEATS(h=3, input_size=10,\n",
    "               stack_types = ['identity', 'trend', 'seasonality']\n",
    "            )\n",
    "]\n"
   ]
  },
  {
   "cell_type": "code",
   "execution_count": 13,
   "metadata": {},
   "outputs": [],
   "source": [
    "model_wrappers = []\n",
    "model_wrappers = []\n",
    "\n",
    "for model in model_classes_neural:\n",
    "    model_wrappers.append(\n",
    "        NeuralForecast( \n",
    "            models=[model],\n",
    "            freq=1\n",
    "        )\n",
    "    )    \n",
    "    \n",
    "for model in models_classes_stats:\n",
    "    model_wrappers.append(\n",
    "        StatsForecast( \n",
    "            models=[model],\n",
    "            freq=1, \n",
    "            fallback_model = SeasonalNaive(season_length=12),\n",
    "            n_jobs=-1,\n",
    "        )\n",
    "    )    \n"
   ]
  },
  {
   "cell_type": "code",
   "execution_count": 14,
   "metadata": {},
   "outputs": [
    {
     "name": "stderr",
     "output_type": "stream",
     "text": [
      "INFO:pytorch_lightning.utilities.rank_zero:GPU available: True (cuda), used: True\n",
      "INFO:pytorch_lightning.utilities.rank_zero:TPU available: False, using: 0 TPU cores\n",
      "INFO:pytorch_lightning.utilities.rank_zero:HPU available: False, using: 0 HPUs\n",
      "INFO:pytorch_lightning.utilities.rank_zero:You are using a CUDA device ('NVIDIA GeForce RTX 3060') that has Tensor Cores. To properly utilize them, you should set `torch.set_float32_matmul_precision('medium' | 'high')` which will trade-off precision for performance. For more details, read https://pytorch.org/docs/stable/generated/torch.set_float32_matmul_precision.html#torch.set_float32_matmul_precision\n",
      "INFO:pytorch_lightning.accelerators.cuda:LOCAL_RANK: 0 - CUDA_VISIBLE_DEVICES: [0]\n"
     ]
    },
    {
     "name": "stdout",
     "output_type": "stream",
     "text": [
      "<neuralforecast.core.NeuralForecast object at 0x7f289100a6f0>\n"
     ]
    },
    {
     "name": "stderr",
     "output_type": "stream",
     "text": [
      "INFO:pytorch_lightning.callbacks.model_summary:\n",
      "  | Name         | Type          | Params | Mode \n",
      "-------------------------------------------------------\n",
      "0 | loss         | MAE           | 0      | train\n",
      "1 | padder_train | ConstantPad1d | 0      | train\n",
      "2 | scaler       | TemporalNorm  | 0      | train\n",
      "3 | blocks       | ModuleList    | 2.4 M  | train\n",
      "-------------------------------------------------------\n",
      "2.4 M     Trainable params\n",
      "91        Non-trainable params\n",
      "2.4 M     Total params\n",
      "9.579     Total estimated model params size (MB)\n",
      "31        Modules in train mode\n",
      "0         Modules in eval mode\n"
     ]
    },
    {
     "name": "stdout",
     "output_type": "stream",
     "text": [
      "Epoch 31:  25%|██▌       | 8/32 [00:00<00:00, 102.95it/s, v_num=14, train_loss_step=340.0, train_loss_epoch=354.0]   "
     ]
    },
    {
     "name": "stderr",
     "output_type": "stream",
     "text": [
      "INFO:pytorch_lightning.utilities.rank_zero:`Trainer.fit` stopped: `max_steps=1000` reached.\n"
     ]
    },
    {
     "name": "stdout",
     "output_type": "stream",
     "text": [
      "Epoch 31:  25%|██▌       | 8/32 [00:00<00:00, 101.97it/s, v_num=14, train_loss_step=340.0, train_loss_epoch=354.0]\n",
      "StatsForecast(models=[HistoricAverage])\n",
      "StatsForecast(models=[DynamicOptimizedTheta])\n",
      "StatsForecast(models=[SeasonalNaive])\n",
      "StatsForecast(models=[AutoARIMA])\n",
      "StatsForecast(models=[AutoETS])\n"
     ]
    }
   ],
   "source": [
    "fit_times = []\n",
    "\n",
    "for model in model_wrappers:\n",
    "    print(model)\n",
    "    start = time.time()\n",
    "    model.fit(df=train)\n",
    "    fit_times.append(time.time()-start)\n",
    "    "
   ]
  },
  {
   "cell_type": "code",
   "execution_count": 15,
   "metadata": {},
   "outputs": [
    {
     "data": {
      "text/plain": [
       "[6.480893850326538,\n",
       " 0.43514037132263184,\n",
       " 15.151887893676758,\n",
       " 0.3921022415161133,\n",
       " 14.845120191574097,\n",
       " 0.6846787929534912]"
      ]
     },
     "execution_count": 15,
     "metadata": {},
     "output_type": "execute_result"
    }
   ],
   "source": [
    "fit_times"
   ]
  },
  {
   "cell_type": "code",
   "execution_count": 16,
   "metadata": {},
   "outputs": [
    {
     "name": "stderr",
     "output_type": "stream",
     "text": [
      "INFO:pytorch_lightning.utilities.rank_zero:GPU available: True (cuda), used: True\n",
      "INFO:pytorch_lightning.utilities.rank_zero:TPU available: False, using: 0 TPU cores\n",
      "INFO:pytorch_lightning.utilities.rank_zero:HPU available: False, using: 0 HPUs\n",
      "INFO:pytorch_lightning.accelerators.cuda:LOCAL_RANK: 0 - CUDA_VISIBLE_DEVICES: [0]\n"
     ]
    },
    {
     "name": "stdout",
     "output_type": "stream",
     "text": [
      "Predicting DataLoader 0: 100%|██████████| 32/32 [00:00<00:00, 730.52it/s]\n"
     ]
    },
    {
     "name": "stderr",
     "output_type": "stream",
     "text": [
      "/home/jan/m4_tests/.venv/lib64/python3.12/site-packages/neuralforecast/core.py:214: FutureWarning: In a future version the predictions will have the id as a column. You can set the `NIXTLA_ID_AS_COL` environment variable to adopt the new behavior and to suppress this warning.\n",
      "  warnings.warn(\n"
     ]
    }
   ],
   "source": [
    "forecasts = []\n",
    "forecast_times = []\n",
    "\n",
    "for model in model_wrappers:\n",
    "\n",
    "    start = time.time()\n",
    "\n",
    "    if isinstance(model, NeuralForecast):\n",
    "        forecasts.append(model.predict().reset_index())\n",
    "    else:\n",
    "        forecasts.append(model.predict(h=3))\n",
    "\n",
    "    forecast_times.append(time.time()-start)\n"
   ]
  },
  {
   "cell_type": "code",
   "execution_count": 17,
   "metadata": {},
   "outputs": [
    {
     "data": {
      "text/plain": [
       "[0.09418129920959473,\n",
       " 0.27584075927734375,\n",
       " 4.57625675201416,\n",
       " 0.3440537452697754,\n",
       " 0.4501485824584961,\n",
       " 0.3664205074310303]"
      ]
     },
     "execution_count": 17,
     "metadata": {},
     "output_type": "execute_result"
    }
   ],
   "source": [
    "forecast_times"
   ]
  },
  {
   "cell_type": "code",
   "execution_count": 18,
   "metadata": {},
   "outputs": [],
   "source": [
    "from utilsforecast.evaluation import evaluate\n",
    "from utilsforecast.losses import mape, mase, rmse, rmsse\n",
    "from functools import partial\n",
    "\n",
    "metrics = [\n",
    "    mape,\n",
    "    rmse,\n",
    "    partial(mase, seasonality=12),\n",
    "    partial(rmsse, seasonality=12),\n",
    "]"
   ]
  },
  {
   "cell_type": "code",
   "execution_count": 19,
   "metadata": {},
   "outputs": [
    {
     "data": {
      "text/html": [
       "<div>\n",
       "<style scoped>\n",
       "    .dataframe tbody tr th:only-of-type {\n",
       "        vertical-align: middle;\n",
       "    }\n",
       "\n",
       "    .dataframe tbody tr th {\n",
       "        vertical-align: top;\n",
       "    }\n",
       "\n",
       "    .dataframe thead th {\n",
       "        text-align: right;\n",
       "    }\n",
       "</style>\n",
       "<table border=\"1\" class=\"dataframe\">\n",
       "  <thead>\n",
       "    <tr style=\"text-align: right;\">\n",
       "      <th></th>\n",
       "      <th>unique_id</th>\n",
       "      <th>ds</th>\n",
       "      <th>y</th>\n",
       "    </tr>\n",
       "  </thead>\n",
       "  <tbody>\n",
       "    <tr>\n",
       "      <th>45</th>\n",
       "      <td>M10006</td>\n",
       "      <td>85</td>\n",
       "      <td>2020.00</td>\n",
       "    </tr>\n",
       "    <tr>\n",
       "      <th>46</th>\n",
       "      <td>M10006</td>\n",
       "      <td>86</td>\n",
       "      <td>2040.00</td>\n",
       "    </tr>\n",
       "    <tr>\n",
       "      <th>47</th>\n",
       "      <td>M10006</td>\n",
       "      <td>87</td>\n",
       "      <td>2140.00</td>\n",
       "    </tr>\n",
       "    <tr>\n",
       "      <th>93</th>\n",
       "      <td>M10085</td>\n",
       "      <td>217</td>\n",
       "      <td>3106.70</td>\n",
       "    </tr>\n",
       "    <tr>\n",
       "      <th>94</th>\n",
       "      <td>M10085</td>\n",
       "      <td>218</td>\n",
       "      <td>3051.11</td>\n",
       "    </tr>\n",
       "    <tr>\n",
       "      <th>...</th>\n",
       "      <td>...</td>\n",
       "      <td>...</td>\n",
       "      <td>...</td>\n",
       "    </tr>\n",
       "    <tr>\n",
       "      <th>47950</th>\n",
       "      <td>M9878</td>\n",
       "      <td>86</td>\n",
       "      <td>1210.00</td>\n",
       "    </tr>\n",
       "    <tr>\n",
       "      <th>47951</th>\n",
       "      <td>M9878</td>\n",
       "      <td>87</td>\n",
       "      <td>1300.00</td>\n",
       "    </tr>\n",
       "    <tr>\n",
       "      <th>47997</th>\n",
       "      <td>M9956</td>\n",
       "      <td>85</td>\n",
       "      <td>2580.00</td>\n",
       "    </tr>\n",
       "    <tr>\n",
       "      <th>47998</th>\n",
       "      <td>M9956</td>\n",
       "      <td>86</td>\n",
       "      <td>2600.00</td>\n",
       "    </tr>\n",
       "    <tr>\n",
       "      <th>47999</th>\n",
       "      <td>M9956</td>\n",
       "      <td>87</td>\n",
       "      <td>2500.00</td>\n",
       "    </tr>\n",
       "  </tbody>\n",
       "</table>\n",
       "<p>3000 rows × 3 columns</p>\n",
       "</div>"
      ],
      "text/plain": [
       "      unique_id   ds        y\n",
       "45       M10006   85  2020.00\n",
       "46       M10006   86  2040.00\n",
       "47       M10006   87  2140.00\n",
       "93       M10085  217  3106.70\n",
       "94       M10085  218  3051.11\n",
       "...         ...  ...      ...\n",
       "47950     M9878   86  1210.00\n",
       "47951     M9878   87  1300.00\n",
       "47997     M9956   85  2580.00\n",
       "47998     M9956   86  2600.00\n",
       "47999     M9956   87  2500.00\n",
       "\n",
       "[3000 rows x 3 columns]"
      ]
     },
     "execution_count": 19,
     "metadata": {},
     "output_type": "execute_result"
    }
   ],
   "source": [
    "test"
   ]
  },
  {
   "cell_type": "code",
   "execution_count": 20,
   "metadata": {},
   "outputs": [
    {
     "name": "stdout",
     "output_type": "stream",
     "text": [
      "     unique_id   ds       NBEATS\n",
      "0       M10006   85  2085.551270\n",
      "1       M10006   86  2053.121094\n",
      "2       M10006   87  2054.608887\n",
      "3       M10085  217  2739.252930\n",
      "4       M10085  218  2741.322754\n",
      "...        ...  ...          ...\n",
      "2995     M9878   86  1275.680298\n",
      "2996     M9878   87  1345.621948\n",
      "2997     M9956   85  2547.271973\n",
      "2998     M9956   86  2546.239990\n",
      "2999     M9956   87  2551.055176\n",
      "\n",
      "[3000 rows x 3 columns]\n",
      "     unique_id   ds  HistoricAverage\n",
      "0       M10006   85      3801.333333\n",
      "1       M10006   86      3801.333333\n",
      "2       M10006   87      3801.333333\n",
      "3       M10085  217      3062.096222\n",
      "4       M10085  218      3062.096222\n",
      "...        ...  ...              ...\n",
      "2995     M9878   86      2757.555556\n",
      "2996     M9878   87      2757.555556\n",
      "2997     M9956   85      3087.111111\n",
      "2998     M9956   86      3087.111111\n",
      "2999     M9956   87      3087.111111\n",
      "\n",
      "[3000 rows x 3 columns]\n",
      "     unique_id   ds  DynamicOptimizedTheta\n",
      "0       M10006   85            2142.109863\n",
      "1       M10006   86            2142.109863\n",
      "2       M10006   87            2142.109863\n",
      "3       M10085  217            2753.164307\n",
      "4       M10085  218            2753.164307\n",
      "...        ...  ...                    ...\n",
      "2995     M9878   86            1302.424072\n",
      "2996     M9878   87            1302.424072\n",
      "2997     M9956   85            2539.192871\n",
      "2998     M9956   86            2539.192871\n",
      "2999     M9956   87            2539.192871\n",
      "\n",
      "[3000 rows x 3 columns]\n",
      "     unique_id   ds  SeasonalNaive\n",
      "0       M10006   85        2530.00\n",
      "1       M10006   86        2620.00\n",
      "2       M10006   87        2730.00\n",
      "3       M10085  217        2446.89\n",
      "4       M10085  218        2660.35\n",
      "...        ...  ...            ...\n",
      "2995     M9878   86        1760.00\n",
      "2996     M9878   87        1730.00\n",
      "2997     M9956   85        2340.00\n",
      "2998     M9956   86        2510.00\n",
      "2999     M9956   87        2490.00\n",
      "\n",
      "[3000 rows x 3 columns]\n",
      "     unique_id   ds    AutoARIMA\n",
      "0       M10006   85  2036.579473\n",
      "1       M10006   86  1985.647066\n",
      "2       M10006   87  1960.563940\n",
      "3       M10085  217  2752.290000\n",
      "4       M10085  218  2752.290000\n",
      "...        ...  ...          ...\n",
      "2995     M9878   86  1099.007550\n",
      "2996     M9878   87  1099.007550\n",
      "2997     M9956   85  2564.280268\n",
      "2998     M9956   86  2571.649411\n",
      "2999     M9956   87  2573.885971\n",
      "\n",
      "[3000 rows x 3 columns]\n",
      "     unique_id   ds      AutoETS\n",
      "0       M10006   85  2140.021001\n",
      "1       M10006   86  2140.021001\n",
      "2       M10006   87  2140.021001\n",
      "3       M10085  217  2752.298708\n",
      "4       M10085  218  2752.298708\n",
      "...        ...  ...          ...\n",
      "2995     M9878   86  1300.024002\n",
      "2996     M9878   87  1300.024002\n",
      "2997     M9956   85  2539.991999\n",
      "2998     M9956   86  2539.991999\n",
      "2999     M9956   87  2539.991999\n",
      "\n",
      "[3000 rows x 3 columns]\n"
     ]
    }
   ],
   "source": [
    "test = test.set_index(\"unique_id\")\n",
    "\n",
    "for forecast in forecasts:\n",
    "    print(forecast)\n",
    "    test = pd.concat([test,forecast.drop(columns=\"ds\").set_index(\"unique_id\")],axis=1)"
   ]
  },
  {
   "cell_type": "code",
   "execution_count": 23,
   "metadata": {},
   "outputs": [],
   "source": [
    "test = test.reset_index()"
   ]
  },
  {
   "cell_type": "code",
   "execution_count": 24,
   "metadata": {},
   "outputs": [],
   "source": [
    "eval = evaluate(test, metrics=metrics, train_df=train)"
   ]
  },
  {
   "cell_type": "code",
   "execution_count": 25,
   "metadata": {},
   "outputs": [],
   "source": [
    "metrics = eval.set_index([\"unique_id\",\"metric\"]).stack().rename_axis(index={None: 'Model'}).rename(\"value\")"
   ]
  },
  {
   "cell_type": "code",
   "execution_count": 26,
   "metadata": {},
   "outputs": [],
   "source": [
    "times = pd.DataFrame(\n",
    "    {\n",
    "        \"Model\":model_names,\n",
    "        \"fit_time\":fit_times,\n",
    "        \"inference_time\":forecast_times\n",
    "    }\n",
    ").set_index(\"Model\")"
   ]
  },
  {
   "cell_type": "code",
   "execution_count": 27,
   "metadata": {},
   "outputs": [
    {
     "data": {
      "text/html": [
       "<div>\n",
       "<style scoped>\n",
       "    .dataframe tbody tr th:only-of-type {\n",
       "        vertical-align: middle;\n",
       "    }\n",
       "\n",
       "    .dataframe tbody tr th {\n",
       "        vertical-align: top;\n",
       "    }\n",
       "\n",
       "    .dataframe thead th {\n",
       "        text-align: right;\n",
       "    }\n",
       "</style>\n",
       "<table border=\"1\" class=\"dataframe\">\n",
       "  <thead>\n",
       "    <tr style=\"text-align: right;\">\n",
       "      <th>Model</th>\n",
       "      <th>AutoARIMA</th>\n",
       "      <th>AutoETS</th>\n",
       "      <th>DynamicOptimizedTheta</th>\n",
       "      <th>HistoricAverage</th>\n",
       "      <th>NBEATS</th>\n",
       "      <th>SeasonalNaive</th>\n",
       "    </tr>\n",
       "    <tr>\n",
       "      <th>metric</th>\n",
       "      <th></th>\n",
       "      <th></th>\n",
       "      <th></th>\n",
       "      <th></th>\n",
       "      <th></th>\n",
       "      <th></th>\n",
       "    </tr>\n",
       "  </thead>\n",
       "  <tbody>\n",
       "    <tr>\n",
       "      <th>mape</th>\n",
       "      <td>0.039805</td>\n",
       "      <td>0.040166</td>\n",
       "      <td>0.037180</td>\n",
       "      <td>0.095054</td>\n",
       "      <td>0.039080</td>\n",
       "      <td>0.070056</td>\n",
       "    </tr>\n",
       "    <tr>\n",
       "      <th>mase</th>\n",
       "      <td>0.462786</td>\n",
       "      <td>0.474370</td>\n",
       "      <td>0.457634</td>\n",
       "      <td>1.292293</td>\n",
       "      <td>0.496172</td>\n",
       "      <td>0.854438</td>\n",
       "    </tr>\n",
       "    <tr>\n",
       "      <th>rmse</th>\n",
       "      <td>147.335291</td>\n",
       "      <td>158.614788</td>\n",
       "      <td>145.940172</td>\n",
       "      <td>388.416634</td>\n",
       "      <td>151.055174</td>\n",
       "      <td>274.643648</td>\n",
       "    </tr>\n",
       "    <tr>\n",
       "      <th>rmsse</th>\n",
       "      <td>0.438268</td>\n",
       "      <td>0.448750</td>\n",
       "      <td>0.430890</td>\n",
       "      <td>1.133600</td>\n",
       "      <td>0.460690</td>\n",
       "      <td>0.774541</td>\n",
       "    </tr>\n",
       "  </tbody>\n",
       "</table>\n",
       "</div>"
      ],
      "text/plain": [
       "Model    AutoARIMA     AutoETS  DynamicOptimizedTheta  HistoricAverage  \\\n",
       "metric                                                                   \n",
       "mape      0.039805    0.040166               0.037180         0.095054   \n",
       "mase      0.462786    0.474370               0.457634         1.292293   \n",
       "rmse    147.335291  158.614788             145.940172       388.416634   \n",
       "rmsse     0.438268    0.448750               0.430890         1.133600   \n",
       "\n",
       "Model       NBEATS  SeasonalNaive  \n",
       "metric                             \n",
       "mape      0.039080       0.070056  \n",
       "mase      0.496172       0.854438  \n",
       "rmse    151.055174     274.643648  \n",
       "rmsse     0.460690       0.774541  "
      ]
     },
     "execution_count": 27,
     "metadata": {},
     "output_type": "execute_result"
    }
   ],
   "source": [
    "metrics.groupby(level=[1,2]).median().unstack()"
   ]
  },
  {
   "cell_type": "code",
   "execution_count": 28,
   "metadata": {},
   "outputs": [],
   "source": [
    "md = metrics.groupby(level=[1,2]).mean().to_frame().join(times).set_index(\"value\",append=True).stack().rename_axis(index={None: 'time'}).rename(\"time_value\").reset_index()"
   ]
  },
  {
   "cell_type": "code",
   "execution_count": 29,
   "metadata": {},
   "outputs": [],
   "source": [
    "import seaborn as sns"
   ]
  },
  {
   "cell_type": "code",
   "execution_count": 30,
   "metadata": {},
   "outputs": [
    {
     "data": {
      "text/plain": [
       "<seaborn.axisgrid.FacetGrid at 0x7f28d14ab4d0>"
      ]
     },
     "execution_count": 30,
     "metadata": {},
     "output_type": "execute_result"
    },
    {
     "data": {
      "image/png": "[encoded data removed]",
      "text/plain": [
       "<Figure size 822.5x1200 with 8 Axes>"
      ]
     },
     "metadata": {},
     "output_type": "display_data"
    }
   ],
   "source": [
    "import matplotlib.pyplot as plt\n",
    "g = sns.FacetGrid(md, row= \"metric\", col=\"time\", hue = \"Model\",sharey=False,sharex=False)\n",
    "g = g.map(plt.scatter, \"time_value\", \"value\")\n",
    "g.add_legend()"
   ]
  }
 ],
 "metadata": {
  "kernelspec": {
   "display_name": ".venv",
   "language": "python",
   "name": "python3"
  },
  "language_info": {
   "codemirror_mode": {
    "name": "ipython",
    "version": 3
   },
   "file_extension": ".py",
   "mimetype": "text/x-python",
   "name": "python",
   "nbconvert_exporter": "python",
   "pygments_lexer": "ipython3",
   "version": "3.12.7"
  }
 },
 "nbformat": 4,
 "nbformat_minor": 2
}
