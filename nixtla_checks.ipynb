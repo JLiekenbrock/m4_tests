{
 "cells": [
  {
   "cell_type": "code",
   "execution_count": 1,
   "metadata": {},
   "outputs": [
    {
     "name": "stdout",
     "output_type": "stream",
     "text": [
      "Note: you may need to restart the kernel to use updated packages.\n"
     ]
    }
   ],
   "source": [
    "pip install -q -r requirements.txt"
   ]
  },
  {
   "cell_type": "code",
   "execution_count": 2,
   "metadata": {},
   "outputs": [
    {
     "name": "stderr",
     "output_type": "stream",
     "text": [
      "/Users/xcx7787/m4_tests/.venv/lib/python3.11/site-packages/tqdm/auto.py:21: TqdmWarning: IProgress not found. Please update jupyter and ipywidgets. See https://ipywidgets.readthedocs.io/en/stable/user_install.html\n",
      "  from .autonotebook import tqdm as notebook_tqdm\n",
      "2024-12-06 18:11:35,567\tINFO util.py:154 -- Missing packages: ['ipywidgets']. Run `pip install -U ipywidgets`, then restart the notebook server for rich notebook output.\n",
      "2024-12-06 18:11:35,664\tINFO util.py:154 -- Missing packages: ['ipywidgets']. Run `pip install -U ipywidgets`, then restart the notebook server for rich notebook output.\n"
     ]
    }
   ],
   "source": [
    "import pandas as pd\n",
    "import numpy as np\n",
    "\n",
    "from statsforecast import StatsForecast\n",
    "import time\n",
    "from statsforecast.models import (\n",
    "    HistoricAverage,\n",
    "    DynamicOptimizedTheta as DOT,\n",
    "    SeasonalNaive,\n",
    "    AutoARIMA,\n",
    "    AutoETS,\n",
    "    Naive\n",
    ")\n",
    "from utilsforecast.losses import *\n",
    "from neuralforecast import NeuralForecast\n",
    "from neuralforecast.models import NBEATS\n",
    "from utilsforecast.evaluation import evaluate\n",
    "\n",
    "from functools import partial\n",
    "import seaborn as sns\n",
    "import matplotlib.pyplot as plt\n",
    "\n",
    "from transformers import AutoModelForCausalLM\n",
    "from chronos import BaseChronosPipeline\n",
    "import scipy.stats as stats \n",
    "\n",
    "import lightgbm as lgb\n",
    "from sklearn.linear_model import LinearRegression\n",
    "\n",
    "from importlib import reload\n",
    "import utils\n",
    "reload(utils)\n",
    "\n",
    "from mlforecast import MLForecast\n",
    "from mlforecast.lag_transforms import ExpandingMean, RollingMean\n",
    "from mlforecast.target_transforms import Differences\n",
    "\n",
    "from utils import prepare_data, TimeMoEPredictor, chronosPredictor"
   ]
  },
  {
   "cell_type": "markdown",
   "metadata": {},
   "source": [
    "## Prepare data"
   ]
  },
  {
   "cell_type": "code",
   "execution_count": 3,
   "metadata": {},
   "outputs": [
    {
     "name": "stderr",
     "output_type": "stream",
     "text": [
      "/Users/xcx7787/m4_tests/utils.py:21: UserWarning: Could not infer format, so each element will be parsed individually, falling back to `dateutil`. To ensure parsing is consistent and as-expected, please specify a format.\n",
      "  .assign(StartingDate = lambda x : pd.to_datetime(x[\"StartingDate\"]))\n",
      "/Users/xcx7787/m4_tests/utils.py:37: FutureWarning: The provided callable <built-in function max> is currently using SeriesGroupBy.max. In a future version of pandas, the provided callable will be used directly. To keep current behavior pass the string \"max\" instead.\n",
      "  df[\"max\"] = df.groupby(\"unique_id\")[\"row\"].transform(max)\n"
     ]
    }
   ],
   "source": [
    "train, test = prepare_data(sample_size=1000,series_cutoff=48)"
   ]
  },
  {
   "cell_type": "code",
   "execution_count": 4,
   "metadata": {},
   "outputs": [
    {
     "name": "stderr",
     "output_type": "stream",
     "text": [
      "Seed set to 1\n",
      "/Users/xcx7787/m4_tests/.venv/lib/python3.11/site-packages/huggingface_hub/file_download.py:797: FutureWarning: `resume_download` is deprecated and will be removed in version 1.0.0. Downloads always resume when possible. If you want to force a new download, use `force_download=True`.\n",
      "  warnings.warn(\n"
     ]
    }
   ],
   "source": [
    "# Create a list of models and instantiation parameters\n",
    "season_length = 12\n",
    "\n",
    "models_classes_stats = [\n",
    "    DOT(season_length=season_length),\n",
    "    AutoARIMA(),\n",
    "    AutoETS(),\n",
    "    Naive()\n",
    "]\n",
    "\n",
    "model_classes_neural = [\n",
    "    NBEATS(h=3, input_size=10,\n",
    "               stack_types = ['identity', 'trend', 'seasonality']\n",
    "            )\n",
    "]\n",
    "\n",
    "model_classes_ml = [\n",
    "    lgb.LGBMRegressor(random_state=0, verbosity=-1),\n",
    "    LinearRegression(),\n",
    "]\n",
    "\n",
    "model_classes_custom = [TimeMoEPredictor(input_length=24),chronosPredictor(input_length=24)]\n"
   ]
  },
  {
   "cell_type": "code",
   "execution_count": 5,
   "metadata": {},
   "outputs": [],
   "source": [
    "model_wrappers = []\n",
    "model_names = []\n",
    "\n",
    "neural = True\n",
    "stats = True\n",
    "ML = True\n",
    "custom = True\n",
    "\n",
    "if neural:\n",
    "    for model in model_classes_neural:\n",
    "        model_names.append(str(model))\n",
    "        model_wrappers.append(\n",
    "            NeuralForecast( \n",
    "                models=[model],\n",
    "                freq=\"ME\"\n",
    "            )\n",
    "        )    \n",
    "\n",
    "if stats:\n",
    "    for model in models_classes_stats:\n",
    "        model_names.append(str(model))\n",
    "        model_wrappers.append(\n",
    "            StatsForecast( \n",
    "                models=[model],\n",
    "                freq=\"ME\", \n",
    "                fallback_model = SeasonalNaive(season_length=12),\n",
    "                n_jobs=-1,\n",
    "            )\n",
    "        )    \n",
    "\n",
    "if ML:\n",
    "    for model in model_classes_ml:\n",
    "        model_names.append(str(model).split(\"(\")[0])\n",
    "        model_wrappers.append(\n",
    "            MLForecast(\n",
    "                models=model,\n",
    "                freq='ME',\n",
    "                lags=[1,2,3,4,5,6,7,8,9,10],\n",
    "                lag_transforms={\n",
    "                    1: [ExpandingMean(),RollingMean(window_size=12),RollingMean(window_size=3),RollingMean(window_size=6),RollingMean(window_size=12)],        \n",
    "                },\n",
    "                date_features=['dayofweek'],\n",
    "                target_transforms=[Differences([1])],\n",
    "            )\n",
    "        )\n",
    "\n",
    "if custom:\n",
    "    for model in model_classes_custom:\n",
    "        model_names.append(str(type(model).__name__))"
   ]
  },
  {
   "cell_type": "code",
   "execution_count": 6,
   "metadata": {},
   "outputs": [
    {
     "name": "stderr",
     "output_type": "stream",
     "text": [
      "/Users/xcx7787/m4_tests/.venv/lib/python3.11/site-packages/mlforecast/core.py:380: RuntimeWarning: invalid value encountered in cast\n",
      "  feat_vals = feat_vals.astype(feat_dtype)\n"
     ]
    },
    {
     "data": {
      "text/html": [
       "<div>\n",
       "<style scoped>\n",
       "    .dataframe tbody tr th:only-of-type {\n",
       "        vertical-align: middle;\n",
       "    }\n",
       "\n",
       "    .dataframe tbody tr th {\n",
       "        vertical-align: top;\n",
       "    }\n",
       "\n",
       "    .dataframe thead th {\n",
       "        text-align: right;\n",
       "    }\n",
       "</style>\n",
       "<table border=\"1\" class=\"dataframe\">\n",
       "  <thead>\n",
       "    <tr style=\"text-align: right;\">\n",
       "      <th></th>\n",
       "      <th>unique_id</th>\n",
       "      <th>y</th>\n",
       "      <th>ds</th>\n",
       "      <th>lag1</th>\n",
       "      <th>lag2</th>\n",
       "      <th>lag3</th>\n",
       "      <th>lag4</th>\n",
       "      <th>lag5</th>\n",
       "      <th>lag6</th>\n",
       "      <th>lag7</th>\n",
       "      <th>lag8</th>\n",
       "      <th>lag9</th>\n",
       "      <th>lag10</th>\n",
       "      <th>expanding_mean_lag1</th>\n",
       "      <th>rolling_mean_lag1_window_size12</th>\n",
       "      <th>rolling_mean_lag1_window_size3</th>\n",
       "      <th>rolling_mean_lag1_window_size6</th>\n",
       "      <th>dayofweek</th>\n",
       "    </tr>\n",
       "  </thead>\n",
       "  <tbody>\n",
       "    <tr>\n",
       "      <th>13</th>\n",
       "      <td>M10000</td>\n",
       "      <td>110.0</td>\n",
       "      <td>2014-06-30</td>\n",
       "      <td>230.0</td>\n",
       "      <td>30.0</td>\n",
       "      <td>60.0</td>\n",
       "      <td>-190.0</td>\n",
       "      <td>-140.0</td>\n",
       "      <td>-10.0</td>\n",
       "      <td>20.0</td>\n",
       "      <td>-140.0</td>\n",
       "      <td>-50.0</td>\n",
       "      <td>-120.0</td>\n",
       "      <td>-0.833333</td>\n",
       "      <td>-0.833333</td>\n",
       "      <td>106.666667</td>\n",
       "      <td>-3.333333</td>\n",
       "      <td>0</td>\n",
       "    </tr>\n",
       "    <tr>\n",
       "      <th>14</th>\n",
       "      <td>M10000</td>\n",
       "      <td>0.0</td>\n",
       "      <td>2014-07-31</td>\n",
       "      <td>110.0</td>\n",
       "      <td>230.0</td>\n",
       "      <td>30.0</td>\n",
       "      <td>60.0</td>\n",
       "      <td>-190.0</td>\n",
       "      <td>-140.0</td>\n",
       "      <td>-10.0</td>\n",
       "      <td>20.0</td>\n",
       "      <td>-140.0</td>\n",
       "      <td>-50.0</td>\n",
       "      <td>7.692308</td>\n",
       "      <td>-13.333333</td>\n",
       "      <td>123.333333</td>\n",
       "      <td>16.666667</td>\n",
       "      <td>3</td>\n",
       "    </tr>\n",
       "    <tr>\n",
       "      <th>15</th>\n",
       "      <td>M10000</td>\n",
       "      <td>-40.0</td>\n",
       "      <td>2014-08-31</td>\n",
       "      <td>0.0</td>\n",
       "      <td>110.0</td>\n",
       "      <td>230.0</td>\n",
       "      <td>30.0</td>\n",
       "      <td>60.0</td>\n",
       "      <td>-190.0</td>\n",
       "      <td>-140.0</td>\n",
       "      <td>-10.0</td>\n",
       "      <td>20.0</td>\n",
       "      <td>-140.0</td>\n",
       "      <td>7.142857</td>\n",
       "      <td>-16.666667</td>\n",
       "      <td>113.333333</td>\n",
       "      <td>40.000000</td>\n",
       "      <td>6</td>\n",
       "    </tr>\n",
       "    <tr>\n",
       "      <th>16</th>\n",
       "      <td>M10000</td>\n",
       "      <td>-20.0</td>\n",
       "      <td>2014-09-30</td>\n",
       "      <td>-40.0</td>\n",
       "      <td>0.0</td>\n",
       "      <td>110.0</td>\n",
       "      <td>230.0</td>\n",
       "      <td>30.0</td>\n",
       "      <td>60.0</td>\n",
       "      <td>-190.0</td>\n",
       "      <td>-140.0</td>\n",
       "      <td>-10.0</td>\n",
       "      <td>20.0</td>\n",
       "      <td>4.000000</td>\n",
       "      <td>-10.000000</td>\n",
       "      <td>23.333333</td>\n",
       "      <td>65.000000</td>\n",
       "      <td>1</td>\n",
       "    </tr>\n",
       "    <tr>\n",
       "      <th>17</th>\n",
       "      <td>M10000</td>\n",
       "      <td>-220.0</td>\n",
       "      <td>2014-10-31</td>\n",
       "      <td>-20.0</td>\n",
       "      <td>-40.0</td>\n",
       "      <td>0.0</td>\n",
       "      <td>110.0</td>\n",
       "      <td>230.0</td>\n",
       "      <td>30.0</td>\n",
       "      <td>60.0</td>\n",
       "      <td>-190.0</td>\n",
       "      <td>-140.0</td>\n",
       "      <td>-10.0</td>\n",
       "      <td>2.500000</td>\n",
       "      <td>-7.500000</td>\n",
       "      <td>-20.000000</td>\n",
       "      <td>51.666667</td>\n",
       "      <td>4</td>\n",
       "    </tr>\n",
       "    <tr>\n",
       "      <th>...</th>\n",
       "      <td>...</td>\n",
       "      <td>...</td>\n",
       "      <td>...</td>\n",
       "      <td>...</td>\n",
       "      <td>...</td>\n",
       "      <td>...</td>\n",
       "      <td>...</td>\n",
       "      <td>...</td>\n",
       "      <td>...</td>\n",
       "      <td>...</td>\n",
       "      <td>...</td>\n",
       "      <td>...</td>\n",
       "      <td>...</td>\n",
       "      <td>...</td>\n",
       "      <td>...</td>\n",
       "      <td>...</td>\n",
       "      <td>...</td>\n",
       "      <td>...</td>\n",
       "    </tr>\n",
       "    <tr>\n",
       "      <th>47992</th>\n",
       "      <td>M9964</td>\n",
       "      <td>40.0</td>\n",
       "      <td>2016-08-31</td>\n",
       "      <td>80.0</td>\n",
       "      <td>60.0</td>\n",
       "      <td>-40.0</td>\n",
       "      <td>40.0</td>\n",
       "      <td>40.0</td>\n",
       "      <td>-20.0</td>\n",
       "      <td>-30.0</td>\n",
       "      <td>-170.0</td>\n",
       "      <td>-160.0</td>\n",
       "      <td>10.0</td>\n",
       "      <td>-9.743590</td>\n",
       "      <td>-20.833333</td>\n",
       "      <td>33.333333</td>\n",
       "      <td>26.666667</td>\n",
       "      <td>2</td>\n",
       "    </tr>\n",
       "    <tr>\n",
       "      <th>47993</th>\n",
       "      <td>M9964</td>\n",
       "      <td>-70.0</td>\n",
       "      <td>2016-09-30</td>\n",
       "      <td>40.0</td>\n",
       "      <td>80.0</td>\n",
       "      <td>60.0</td>\n",
       "      <td>-40.0</td>\n",
       "      <td>40.0</td>\n",
       "      <td>40.0</td>\n",
       "      <td>-20.0</td>\n",
       "      <td>-30.0</td>\n",
       "      <td>-170.0</td>\n",
       "      <td>-160.0</td>\n",
       "      <td>-8.500000</td>\n",
       "      <td>-20.833333</td>\n",
       "      <td>60.000000</td>\n",
       "      <td>36.666667</td>\n",
       "      <td>4</td>\n",
       "    </tr>\n",
       "    <tr>\n",
       "      <th>47994</th>\n",
       "      <td>M9964</td>\n",
       "      <td>0.0</td>\n",
       "      <td>2016-10-31</td>\n",
       "      <td>-70.0</td>\n",
       "      <td>40.0</td>\n",
       "      <td>80.0</td>\n",
       "      <td>60.0</td>\n",
       "      <td>-40.0</td>\n",
       "      <td>40.0</td>\n",
       "      <td>40.0</td>\n",
       "      <td>-20.0</td>\n",
       "      <td>-30.0</td>\n",
       "      <td>-170.0</td>\n",
       "      <td>-10.000000</td>\n",
       "      <td>-18.333333</td>\n",
       "      <td>16.666667</td>\n",
       "      <td>18.333333</td>\n",
       "      <td>0</td>\n",
       "    </tr>\n",
       "    <tr>\n",
       "      <th>47995</th>\n",
       "      <td>M9964</td>\n",
       "      <td>-20.0</td>\n",
       "      <td>2016-11-30</td>\n",
       "      <td>0.0</td>\n",
       "      <td>-70.0</td>\n",
       "      <td>40.0</td>\n",
       "      <td>80.0</td>\n",
       "      <td>60.0</td>\n",
       "      <td>-40.0</td>\n",
       "      <td>40.0</td>\n",
       "      <td>40.0</td>\n",
       "      <td>-20.0</td>\n",
       "      <td>-30.0</td>\n",
       "      <td>-9.761905</td>\n",
       "      <td>-19.166667</td>\n",
       "      <td>-10.000000</td>\n",
       "      <td>11.666667</td>\n",
       "      <td>2</td>\n",
       "    </tr>\n",
       "    <tr>\n",
       "      <th>47996</th>\n",
       "      <td>M9964</td>\n",
       "      <td>-90.0</td>\n",
       "      <td>2016-12-31</td>\n",
       "      <td>-20.0</td>\n",
       "      <td>0.0</td>\n",
       "      <td>-70.0</td>\n",
       "      <td>40.0</td>\n",
       "      <td>80.0</td>\n",
       "      <td>60.0</td>\n",
       "      <td>-40.0</td>\n",
       "      <td>40.0</td>\n",
       "      <td>40.0</td>\n",
       "      <td>-20.0</td>\n",
       "      <td>-10.000000</td>\n",
       "      <td>-7.500000</td>\n",
       "      <td>-30.000000</td>\n",
       "      <td>15.000000</td>\n",
       "      <td>5</td>\n",
       "    </tr>\n",
       "  </tbody>\n",
       "</table>\n",
       "<p>32000 rows × 18 columns</p>\n",
       "</div>"
      ],
      "text/plain": [
       "      unique_id      y         ds   lag1   lag2   lag3   lag4   lag5   lag6  \\\n",
       "13       M10000  110.0 2014-06-30  230.0   30.0   60.0 -190.0 -140.0  -10.0   \n",
       "14       M10000    0.0 2014-07-31  110.0  230.0   30.0   60.0 -190.0 -140.0   \n",
       "15       M10000  -40.0 2014-08-31    0.0  110.0  230.0   30.0   60.0 -190.0   \n",
       "16       M10000  -20.0 2014-09-30  -40.0    0.0  110.0  230.0   30.0   60.0   \n",
       "17       M10000 -220.0 2014-10-31  -20.0  -40.0    0.0  110.0  230.0   30.0   \n",
       "...         ...    ...        ...    ...    ...    ...    ...    ...    ...   \n",
       "47992     M9964   40.0 2016-08-31   80.0   60.0  -40.0   40.0   40.0  -20.0   \n",
       "47993     M9964  -70.0 2016-09-30   40.0   80.0   60.0  -40.0   40.0   40.0   \n",
       "47994     M9964    0.0 2016-10-31  -70.0   40.0   80.0   60.0  -40.0   40.0   \n",
       "47995     M9964  -20.0 2016-11-30    0.0  -70.0   40.0   80.0   60.0  -40.0   \n",
       "47996     M9964  -90.0 2016-12-31  -20.0    0.0  -70.0   40.0   80.0   60.0   \n",
       "\n",
       "        lag7   lag8   lag9  lag10  expanding_mean_lag1  \\\n",
       "13      20.0 -140.0  -50.0 -120.0            -0.833333   \n",
       "14     -10.0   20.0 -140.0  -50.0             7.692308   \n",
       "15    -140.0  -10.0   20.0 -140.0             7.142857   \n",
       "16    -190.0 -140.0  -10.0   20.0             4.000000   \n",
       "17      60.0 -190.0 -140.0  -10.0             2.500000   \n",
       "...      ...    ...    ...    ...                  ...   \n",
       "47992  -30.0 -170.0 -160.0   10.0            -9.743590   \n",
       "47993  -20.0  -30.0 -170.0 -160.0            -8.500000   \n",
       "47994   40.0  -20.0  -30.0 -170.0           -10.000000   \n",
       "47995   40.0   40.0  -20.0  -30.0            -9.761905   \n",
       "47996  -40.0   40.0   40.0  -20.0           -10.000000   \n",
       "\n",
       "       rolling_mean_lag1_window_size12  rolling_mean_lag1_window_size3  \\\n",
       "13                           -0.833333                      106.666667   \n",
       "14                          -13.333333                      123.333333   \n",
       "15                          -16.666667                      113.333333   \n",
       "16                          -10.000000                       23.333333   \n",
       "17                           -7.500000                      -20.000000   \n",
       "...                                ...                             ...   \n",
       "47992                       -20.833333                       33.333333   \n",
       "47993                       -20.833333                       60.000000   \n",
       "47994                       -18.333333                       16.666667   \n",
       "47995                       -19.166667                      -10.000000   \n",
       "47996                        -7.500000                      -30.000000   \n",
       "\n",
       "       rolling_mean_lag1_window_size6  dayofweek  \n",
       "13                          -3.333333          0  \n",
       "14                          16.666667          3  \n",
       "15                          40.000000          6  \n",
       "16                          65.000000          1  \n",
       "17                          51.666667          4  \n",
       "...                               ...        ...  \n",
       "47992                       26.666667          2  \n",
       "47993                       36.666667          4  \n",
       "47994                       18.333333          0  \n",
       "47995                       11.666667          2  \n",
       "47996                       15.000000          5  \n",
       "\n",
       "[32000 rows x 18 columns]"
      ]
     },
     "execution_count": 6,
     "metadata": {},
     "output_type": "execute_result"
    }
   ],
   "source": [
    "model_wrappers[5].preprocess(train)"
   ]
  },
  {
   "cell_type": "code",
   "execution_count": 7,
   "metadata": {},
   "outputs": [
    {
     "name": "stderr",
     "output_type": "stream",
     "text": [
      "GPU available: True (mps), used: True\n",
      "TPU available: False, using: 0 TPU cores\n",
      "HPU available: False, using: 0 HPUs\n",
      "\n",
      "  | Name         | Type          | Params | Mode \n",
      "-------------------------------------------------------\n",
      "0 | loss         | MAE           | 0      | train\n",
      "1 | padder_train | ConstantPad1d | 0      | train\n",
      "2 | scaler       | TemporalNorm  | 0      | train\n",
      "3 | blocks       | ModuleList    | 2.4 M  | train\n",
      "-------------------------------------------------------\n",
      "2.4 M     Trainable params\n",
      "91        Non-trainable params\n",
      "2.4 M     Total params\n",
      "9.579     Total estimated model params size (MB)\n",
      "31        Modules in train mode\n",
      "0         Modules in eval mode\n"
     ]
    },
    {
     "name": "stdout",
     "output_type": "stream",
     "text": [
      "<neuralforecast.core.NeuralForecast object at 0x1597e5a50>\n",
      "Epoch 31:  25%|██▌       | 8/32 [00:00<00:00, 40.41it/s, v_num=104, train_loss_step=382.0, train_loss_epoch=338.0] "
     ]
    },
    {
     "name": "stderr",
     "output_type": "stream",
     "text": [
      "`Trainer.fit` stopped: `max_steps=1000` reached.\n"
     ]
    },
    {
     "name": "stdout",
     "output_type": "stream",
     "text": [
      "Epoch 31:  25%|██▌       | 8/32 [00:00<00:00, 40.10it/s, v_num=104, train_loss_step=382.0, train_loss_epoch=338.0]\n",
      "StatsForecast(models=[DynamicOptimizedTheta])\n",
      "StatsForecast(models=[AutoARIMA])\n",
      "StatsForecast(models=[AutoETS])\n",
      "StatsForecast(models=[Naive])\n",
      "MLForecast(models=[LGBMRegressor], freq=ME, lag_features=['lag1', 'lag2', 'lag3', 'lag4', 'lag5', 'lag6', 'lag7', 'lag8', 'lag9', 'lag10', 'expanding_mean_lag1', 'rolling_mean_lag1_window_size12', 'rolling_mean_lag1_window_size3', 'rolling_mean_lag1_window_size6'], date_features=['dayofweek'], num_threads=1)\n"
     ]
    },
    {
     "name": "stderr",
     "output_type": "stream",
     "text": [
      "/Users/xcx7787/m4_tests/.venv/lib/python3.11/site-packages/mlforecast/core.py:380: RuntimeWarning: invalid value encountered in cast\n",
      "  feat_vals = feat_vals.astype(feat_dtype)\n"
     ]
    },
    {
     "name": "stdout",
     "output_type": "stream",
     "text": [
      "MLForecast(models=[LinearRegression], freq=ME, lag_features=['lag1', 'lag2', 'lag3', 'lag4', 'lag5', 'lag6', 'lag7', 'lag8', 'lag9', 'lag10', 'expanding_mean_lag1', 'rolling_mean_lag1_window_size12', 'rolling_mean_lag1_window_size3', 'rolling_mean_lag1_window_size6'], date_features=['dayofweek'], num_threads=1)\n"
     ]
    },
    {
     "name": "stderr",
     "output_type": "stream",
     "text": [
      "/Users/xcx7787/m4_tests/.venv/lib/python3.11/site-packages/mlforecast/core.py:380: RuntimeWarning: invalid value encountered in cast\n",
      "  feat_vals = feat_vals.astype(feat_dtype)\n"
     ]
    }
   ],
   "source": [
    "fit_times = []\n",
    "\n",
    "for model in model_wrappers:\n",
    "    print(model)\n",
    "    start = time.time()\n",
    "    model.fit(df=train)\n",
    "    fit_times.append(time.time()-start)\n",
    "    "
   ]
  },
  {
   "cell_type": "code",
   "execution_count": 8,
   "metadata": {},
   "outputs": [],
   "source": [
    "model_wrappers=model_wrappers+model_classes_custom"
   ]
  },
  {
   "cell_type": "code",
   "execution_count": 9,
   "metadata": {},
   "outputs": [
    {
     "name": "stderr",
     "output_type": "stream",
     "text": [
      "GPU available: True (mps), used: True\n",
      "TPU available: False, using: 0 TPU cores\n",
      "HPU available: False, using: 0 HPUs\n"
     ]
    },
    {
     "name": "stdout",
     "output_type": "stream",
     "text": [
      "<neuralforecast.core.NeuralForecast object at 0x1597e5a50>\n",
      "Predicting DataLoader 0: 100%|██████████| 32/32 [00:00<00:00, 152.67it/s]\n",
      "StatsForecast(models=[DynamicOptimizedTheta])\n"
     ]
    },
    {
     "name": "stderr",
     "output_type": "stream",
     "text": [
      "/Users/xcx7787/m4_tests/.venv/lib/python3.11/site-packages/neuralforecast/core.py:214: FutureWarning: In a future version the predictions will have the id as a column. You can set the `NIXTLA_ID_AS_COL` environment variable to adopt the new behavior and to suppress this warning.\n",
      "  warnings.warn(\n"
     ]
    },
    {
     "name": "stdout",
     "output_type": "stream",
     "text": [
      "StatsForecast(models=[AutoARIMA])\n",
      "StatsForecast(models=[AutoETS])\n",
      "StatsForecast(models=[Naive])\n",
      "MLForecast(models=[LGBMRegressor], freq=ME, lag_features=['lag1', 'lag2', 'lag3', 'lag4', 'lag5', 'lag6', 'lag7', 'lag8', 'lag9', 'lag10', 'expanding_mean_lag1', 'rolling_mean_lag1_window_size12', 'rolling_mean_lag1_window_size3', 'rolling_mean_lag1_window_size6'], date_features=['dayofweek'], num_threads=1)\n",
      "MLForecast(models=[LinearRegression], freq=ME, lag_features=['lag1', 'lag2', 'lag3', 'lag4', 'lag5', 'lag6', 'lag7', 'lag8', 'lag9', 'lag10', 'expanding_mean_lag1', 'rolling_mean_lag1_window_size12', 'rolling_mean_lag1_window_size3', 'rolling_mean_lag1_window_size6'], date_features=['dayofweek'], num_threads=1)\n",
      "<utils.TimeMoEPredictor object at 0x1598c0110>\n"
     ]
    },
    {
     "name": "stderr",
     "output_type": "stream",
     "text": [
      "/Users/xcx7787/m4_tests/.venv/lib/python3.11/site-packages/mlforecast/core.py:380: RuntimeWarning: invalid value encountered in cast\n",
      "  feat_vals = feat_vals.astype(feat_dtype)\n",
      "/Users/xcx7787/m4_tests/.venv/lib/python3.11/site-packages/mlforecast/core.py:380: RuntimeWarning: invalid value encountered in cast\n",
      "  feat_vals = feat_vals.astype(feat_dtype)\n",
      "/Users/xcx7787/m4_tests/.venv/lib/python3.11/site-packages/mlforecast/core.py:380: RuntimeWarning: invalid value encountered in cast\n",
      "  feat_vals = feat_vals.astype(feat_dtype)\n",
      "/Users/xcx7787/m4_tests/.venv/lib/python3.11/site-packages/mlforecast/core.py:380: RuntimeWarning: invalid value encountered in cast\n",
      "  feat_vals = feat_vals.astype(feat_dtype)\n",
      "/Users/xcx7787/m4_tests/.venv/lib/python3.11/site-packages/mlforecast/core.py:380: RuntimeWarning: invalid value encountered in cast\n",
      "  feat_vals = feat_vals.astype(feat_dtype)\n",
      "/Users/xcx7787/m4_tests/.venv/lib/python3.11/site-packages/mlforecast/core.py:380: RuntimeWarning: invalid value encountered in cast\n",
      "  feat_vals = feat_vals.astype(feat_dtype)\n"
     ]
    },
    {
     "name": "stdout",
     "output_type": "stream",
     "text": [
      "1000\n",
      "<utils.chronosPredictor object at 0x15893b350>\n",
      "3000\n"
     ]
    }
   ],
   "source": [
    "forecasts = []\n",
    "forecast_times = []\n",
    "\n",
    "for model in model_wrappers:\n",
    "    print(model)\n",
    "    \n",
    "    start = time.time()\n",
    "\n",
    "    if isinstance(model, NeuralForecast):\n",
    "        forecasts.append(model.predict().reset_index())   \n",
    "    elif (isinstance(model,StatsForecast)) or (isinstance(model,MLForecast)):\n",
    "        forecasts.append(model.predict(h=3))\n",
    "    else:\n",
    "        forecasts.append(model.predict(train,test,h=3))\n",
    "        fit_times.append(0)\n",
    "\n",
    "    forecast_times.append(time.time()-start)\n"
   ]
  },
  {
   "cell_type": "code",
   "execution_count": 10,
   "metadata": {},
   "outputs": [
    {
     "data": {
      "text/plain": [
       "[0.26427412033081055,\n",
       " 5.707134008407593,\n",
       " 2.0786778926849365,\n",
       " 2.046570062637329,\n",
       " 2.1991641521453857,\n",
       " 0.009401082992553711,\n",
       " 0.004483222961425781,\n",
       " 5.5084452629089355,\n",
       " 0.514887809753418]"
      ]
     },
     "execution_count": 10,
     "metadata": {},
     "output_type": "execute_result"
    }
   ],
   "source": [
    "forecast_times"
   ]
  },
  {
   "cell_type": "code",
   "execution_count": 11,
   "metadata": {},
   "outputs": [
    {
     "data": {
      "text/html": [
       "<div>\n",
       "<style scoped>\n",
       "    .dataframe tbody tr th:only-of-type {\n",
       "        vertical-align: middle;\n",
       "    }\n",
       "\n",
       "    .dataframe tbody tr th {\n",
       "        vertical-align: top;\n",
       "    }\n",
       "\n",
       "    .dataframe thead th {\n",
       "        text-align: right;\n",
       "    }\n",
       "</style>\n",
       "<table border=\"1\" class=\"dataframe\">\n",
       "  <thead>\n",
       "    <tr style=\"text-align: right;\">\n",
       "      <th></th>\n",
       "      <th>unique_id</th>\n",
       "      <th>ds</th>\n",
       "      <th>NBEATS</th>\n",
       "    </tr>\n",
       "  </thead>\n",
       "  <tbody>\n",
       "    <tr>\n",
       "      <th>0</th>\n",
       "      <td>M10000</td>\n",
       "      <td>2017-01-31</td>\n",
       "      <td>2315.308838</td>\n",
       "    </tr>\n",
       "    <tr>\n",
       "      <th>1</th>\n",
       "      <td>M10000</td>\n",
       "      <td>2017-02-28</td>\n",
       "      <td>2162.373291</td>\n",
       "    </tr>\n",
       "    <tr>\n",
       "      <th>2</th>\n",
       "      <td>M10000</td>\n",
       "      <td>2017-03-31</td>\n",
       "      <td>2056.003662</td>\n",
       "    </tr>\n",
       "    <tr>\n",
       "      <th>3</th>\n",
       "      <td>M10127</td>\n",
       "      <td>2016-07-31</td>\n",
       "      <td>1107.351440</td>\n",
       "    </tr>\n",
       "    <tr>\n",
       "      <th>4</th>\n",
       "      <td>M10127</td>\n",
       "      <td>2016-08-31</td>\n",
       "      <td>1108.363647</td>\n",
       "    </tr>\n",
       "    <tr>\n",
       "      <th>...</th>\n",
       "      <td>...</td>\n",
       "      <td>...</td>\n",
       "      <td>...</td>\n",
       "    </tr>\n",
       "    <tr>\n",
       "      <th>2995</th>\n",
       "      <td>M9942</td>\n",
       "      <td>2017-02-28</td>\n",
       "      <td>1719.952759</td>\n",
       "    </tr>\n",
       "    <tr>\n",
       "      <th>2996</th>\n",
       "      <td>M9942</td>\n",
       "      <td>2017-03-31</td>\n",
       "      <td>1716.451172</td>\n",
       "    </tr>\n",
       "    <tr>\n",
       "      <th>2997</th>\n",
       "      <td>M9964</td>\n",
       "      <td>2017-01-31</td>\n",
       "      <td>513.163635</td>\n",
       "    </tr>\n",
       "    <tr>\n",
       "      <th>2998</th>\n",
       "      <td>M9964</td>\n",
       "      <td>2017-02-28</td>\n",
       "      <td>502.868744</td>\n",
       "    </tr>\n",
       "    <tr>\n",
       "      <th>2999</th>\n",
       "      <td>M9964</td>\n",
       "      <td>2017-03-31</td>\n",
       "      <td>515.823792</td>\n",
       "    </tr>\n",
       "  </tbody>\n",
       "</table>\n",
       "<p>3000 rows × 3 columns</p>\n",
       "</div>"
      ],
      "text/plain": [
       "     unique_id         ds       NBEATS\n",
       "0       M10000 2017-01-31  2315.308838\n",
       "1       M10000 2017-02-28  2162.373291\n",
       "2       M10000 2017-03-31  2056.003662\n",
       "3       M10127 2016-07-31  1107.351440\n",
       "4       M10127 2016-08-31  1108.363647\n",
       "...        ...        ...          ...\n",
       "2995     M9942 2017-02-28  1719.952759\n",
       "2996     M9942 2017-03-31  1716.451172\n",
       "2997     M9964 2017-01-31   513.163635\n",
       "2998     M9964 2017-02-28   502.868744\n",
       "2999     M9964 2017-03-31   515.823792\n",
       "\n",
       "[3000 rows x 3 columns]"
      ]
     },
     "execution_count": 11,
     "metadata": {},
     "output_type": "execute_result"
    }
   ],
   "source": [
    "forecasts[0]"
   ]
  },
  {
   "cell_type": "code",
   "execution_count": 12,
   "metadata": {},
   "outputs": [],
   "source": [
    "def _zero_to_nan(series: pd.Series) -> pd.Series:\n",
    "    if isinstance(series, pd.Series):\n",
    "        res = series.replace(0, np.nan)\n",
    "    return res\n",
    "\n",
    "def wape(\n",
    "    df:  pd.DataFrame,\n",
    "    models: list[str],\n",
    "    id_col: str = \"unique_id\",\n",
    "    target_col: str = \"y\",\n",
    ") ->  pd.DataFrame:\n",
    "    \"\"\"Mean Absolute Percentage Error (WAPE)\n",
    "\n",
    "    WAPE measures the relative prediction\n",
    "    accuracy of a forecasting method by calculating the percentual deviation\n",
    "    of the prediction and the observed value at a given time and\n",
    "    averages these devations over the length of the series.\n",
    "    The closer to zero an observed value is, the higher penalty WAPE loss\n",
    "    assigns to the corresponding error.\"\"\"\n",
    "    if isinstance(df, pd.DataFrame):\n",
    "        res = (\n",
    "            df[models]\n",
    "            .sub(df[target_col], axis=0)\n",
    "            .abs()\n",
    "            .div(_zero_to_nan(df[target_col].abs().sum()), axis=0)\n",
    "            .groupby(df[id_col], observed=True)\n",
    "            .mean()\n",
    "        )\n",
    "        res.index.name = id_col\n",
    "        res = res.reset_index()\n",
    "\n",
    "    return res"
   ]
  },
  {
   "cell_type": "code",
   "execution_count": 13,
   "metadata": {},
   "outputs": [],
   "source": [
    "metrics = [\n",
    "    mape,\n",
    "    rmse,\n",
    "    wape,\n",
    "    partial(mase, seasonality=12),\n",
    "    partial(rmsse, seasonality=12),\n",
    "]"
   ]
  },
  {
   "cell_type": "code",
   "execution_count": 14,
   "metadata": {},
   "outputs": [],
   "source": [
    "test = test.reset_index()\n",
    "\n",
    "for forecast in forecasts:\n",
    "    test = test.merge(forecast, on = [\"ds\",\"unique_id\"],how=\"inner\")"
   ]
  },
  {
   "cell_type": "code",
   "execution_count": 15,
   "metadata": {},
   "outputs": [
    {
     "ename": "UnboundLocalError",
     "evalue": "cannot access local variable 'res' where it is not associated with a value",
     "output_type": "error",
     "traceback": [
      "\u001b[0;31m---------------------------------------------------------------------------\u001b[0m",
      "\u001b[0;31mUnboundLocalError\u001b[0m                         Traceback (most recent call last)",
      "Cell \u001b[0;32mIn[15], line 1\u001b[0m\n\u001b[0;32m----> 1\u001b[0m \u001b[38;5;28meval\u001b[39m \u001b[38;5;241m=\u001b[39m \u001b[43mevaluate\u001b[49m\u001b[43m(\u001b[49m\u001b[43mtest\u001b[49m\u001b[43m,\u001b[49m\u001b[43m \u001b[49m\u001b[43mmetrics\u001b[49m\u001b[38;5;241;43m=\u001b[39;49m\u001b[43mmetrics\u001b[49m\u001b[43m,\u001b[49m\u001b[43m \u001b[49m\u001b[43mtrain_df\u001b[49m\u001b[38;5;241;43m=\u001b[39;49m\u001b[43mtrain\u001b[49m\u001b[43m)\u001b[49m\n",
      "File \u001b[0;32m~/m4_tests/.venv/lib/python3.11/site-packages/utilsforecast/evaluation.py:303\u001b[0m, in \u001b[0;36mevaluate\u001b[0;34m(df, metrics, models, train_df, level, id_col, time_col, target_col, agg_fn)\u001b[0m\n\u001b[1;32m    301\u001b[0m         results_per_metric\u001b[38;5;241m.\u001b[39mappend(result)\n\u001b[1;32m    302\u001b[0m \u001b[38;5;28;01melse\u001b[39;00m:\n\u001b[0;32m--> 303\u001b[0m     result \u001b[38;5;241m=\u001b[39m \u001b[43mmetric\u001b[49m\u001b[43m(\u001b[49m\u001b[38;5;241;43m*\u001b[39;49m\u001b[38;5;241;43m*\u001b[39;49m\u001b[43mkwargs\u001b[49m\u001b[43m)\u001b[49m\n\u001b[1;32m    304\u001b[0m     result \u001b[38;5;241m=\u001b[39m ufp\u001b[38;5;241m.\u001b[39massign_columns(result, \u001b[38;5;124m\"\u001b[39m\u001b[38;5;124mmetric\u001b[39m\u001b[38;5;124m\"\u001b[39m, metric_name)\n\u001b[1;32m    305\u001b[0m     results_per_metric\u001b[38;5;241m.\u001b[39mappend(result)\n",
      "Cell \u001b[0;32mIn[12], line 25\u001b[0m, in \u001b[0;36mwape\u001b[0;34m(df, models, id_col, target_col)\u001b[0m\n\u001b[1;32m     12\u001b[0m \u001b[38;5;250m\u001b[39m\u001b[38;5;124;03m\"\"\"Mean Absolute Percentage Error (MAPE)\u001b[39;00m\n\u001b[1;32m     13\u001b[0m \n\u001b[1;32m     14\u001b[0m \u001b[38;5;124;03mMAPE measures the relative prediction\u001b[39;00m\n\u001b[0;32m   (...)\u001b[0m\n\u001b[1;32m     18\u001b[0m \u001b[38;5;124;03mThe closer to zero an observed value is, the higher penalty MAPE loss\u001b[39;00m\n\u001b[1;32m     19\u001b[0m \u001b[38;5;124;03massigns to the corresponding error.\"\"\"\u001b[39;00m\n\u001b[1;32m     20\u001b[0m \u001b[38;5;28;01mif\u001b[39;00m \u001b[38;5;28misinstance\u001b[39m(df, pd\u001b[38;5;241m.\u001b[39mDataFrame):\n\u001b[1;32m     21\u001b[0m     res \u001b[38;5;241m=\u001b[39m (\n\u001b[1;32m     22\u001b[0m         df[models]\n\u001b[1;32m     23\u001b[0m         \u001b[38;5;241m.\u001b[39msub(df[target_col], axis\u001b[38;5;241m=\u001b[39m\u001b[38;5;241m0\u001b[39m)\n\u001b[1;32m     24\u001b[0m         \u001b[38;5;241m.\u001b[39mabs()\n\u001b[0;32m---> 25\u001b[0m         \u001b[38;5;241m.\u001b[39mdiv(\u001b[43m_zero_to_nan\u001b[49m\u001b[43m(\u001b[49m\u001b[43mdf\u001b[49m\u001b[43m[\u001b[49m\u001b[43mtarget_col\u001b[49m\u001b[43m]\u001b[49m\u001b[38;5;241;43m.\u001b[39;49m\u001b[43mabs\u001b[49m\u001b[43m(\u001b[49m\u001b[43m)\u001b[49m\u001b[38;5;241;43m.\u001b[39;49m\u001b[43msum\u001b[49m\u001b[43m(\u001b[49m\u001b[43m)\u001b[49m\u001b[43m)\u001b[49m, axis\u001b[38;5;241m=\u001b[39m\u001b[38;5;241m0\u001b[39m)\n\u001b[1;32m     26\u001b[0m         \u001b[38;5;241m.\u001b[39mgroupby(df[id_col], observed\u001b[38;5;241m=\u001b[39m\u001b[38;5;28;01mTrue\u001b[39;00m)\n\u001b[1;32m     27\u001b[0m         \u001b[38;5;241m.\u001b[39mmean()\n\u001b[1;32m     28\u001b[0m     )\n\u001b[1;32m     29\u001b[0m     res\u001b[38;5;241m.\u001b[39mindex\u001b[38;5;241m.\u001b[39mname \u001b[38;5;241m=\u001b[39m id_col\n\u001b[1;32m     30\u001b[0m     res \u001b[38;5;241m=\u001b[39m res\u001b[38;5;241m.\u001b[39mreset_index()\n",
      "Cell \u001b[0;32mIn[12], line 4\u001b[0m, in \u001b[0;36m_zero_to_nan\u001b[0;34m(series)\u001b[0m\n\u001b[1;32m      2\u001b[0m \u001b[38;5;28;01mif\u001b[39;00m \u001b[38;5;28misinstance\u001b[39m(series, pd\u001b[38;5;241m.\u001b[39mSeries):\n\u001b[1;32m      3\u001b[0m     res \u001b[38;5;241m=\u001b[39m series\u001b[38;5;241m.\u001b[39mreplace(\u001b[38;5;241m0\u001b[39m, np\u001b[38;5;241m.\u001b[39mnan)\n\u001b[0;32m----> 4\u001b[0m \u001b[38;5;28;01mreturn\u001b[39;00m \u001b[43mres\u001b[49m\n",
      "\u001b[0;31mUnboundLocalError\u001b[0m: cannot access local variable 'res' where it is not associated with a value"
     ]
    }
   ],
   "source": [
    "eval = evaluate(test, metrics=metrics, train_df=train)"
   ]
  },
  {
   "cell_type": "code",
   "execution_count": 39,
   "metadata": {},
   "outputs": [],
   "source": [
    "metrics = eval.drop(columns=\"index\").set_index([\"unique_id\",\"metric\"]).stack().rename_axis(index={None: 'Model'}).rename(\"value\")"
   ]
  },
  {
   "cell_type": "code",
   "execution_count": 40,
   "metadata": {},
   "outputs": [
    {
     "data": {
      "text/plain": [
       "<seaborn.axisgrid.FacetGrid at 0x309ea1210>"
      ]
     },
     "execution_count": 40,
     "metadata": {},
     "output_type": "execute_result"
    },
    {
     "data": {
      "image/png": "[encoded data removed]",
      "text/plain": [
       "<Figure size 2000x500 with 4 Axes>"
      ]
     },
     "metadata": {},
     "output_type": "display_data"
    }
   ],
   "source": [
    "sns.catplot(\n",
    "    data=metrics.reset_index(), x='value', y='Model',hue=\"Model\",sharey=False,sharex=False,showfliers=False,\n",
    "    col='metric', kind='box', col_wrap=4\n",
    ")"
   ]
  },
  {
   "cell_type": "code",
   "execution_count": 41,
   "metadata": {},
   "outputs": [],
   "source": [
    "times = pd.DataFrame(\n",
    "    {\n",
    "        \"Model\":model_names,\n",
    "        \"fit_time\":fit_times,\n",
    "        \"inference_time\":forecast_times\n",
    "    }\n",
    ").set_index(\"Model\")"
   ]
  },
  {
   "cell_type": "code",
   "execution_count": 42,
   "metadata": {},
   "outputs": [
    {
     "data": {
      "text/html": [
       "<div>\n",
       "<style scoped>\n",
       "    .dataframe tbody tr th:only-of-type {\n",
       "        vertical-align: middle;\n",
       "    }\n",
       "\n",
       "    .dataframe tbody tr th {\n",
       "        vertical-align: top;\n",
       "    }\n",
       "\n",
       "    .dataframe thead th {\n",
       "        text-align: right;\n",
       "    }\n",
       "</style>\n",
       "<table border=\"1\" class=\"dataframe\">\n",
       "  <thead>\n",
       "    <tr style=\"text-align: right;\">\n",
       "      <th></th>\n",
       "      <th>fit_time</th>\n",
       "      <th>inference_time</th>\n",
       "    </tr>\n",
       "    <tr>\n",
       "      <th>Model</th>\n",
       "      <th></th>\n",
       "      <th></th>\n",
       "    </tr>\n",
       "  </thead>\n",
       "  <tbody>\n",
       "    <tr>\n",
       "      <th>NBEATS</th>\n",
       "      <td>17.632864</td>\n",
       "      <td>0.214088</td>\n",
       "    </tr>\n",
       "    <tr>\n",
       "      <th>DynamicOptimizedTheta</th>\n",
       "      <td>15.613503</td>\n",
       "      <td>6.039796</td>\n",
       "    </tr>\n",
       "    <tr>\n",
       "      <th>AutoARIMA</th>\n",
       "      <td>16.989109</td>\n",
       "      <td>2.224697</td>\n",
       "    </tr>\n",
       "    <tr>\n",
       "      <th>AutoETS</th>\n",
       "      <td>2.671610</td>\n",
       "      <td>2.204751</td>\n",
       "    </tr>\n",
       "    <tr>\n",
       "      <th>Naive</th>\n",
       "      <td>2.395918</td>\n",
       "      <td>2.107725</td>\n",
       "    </tr>\n",
       "    <tr>\n",
       "      <th>LGBMRegressor</th>\n",
       "      <td>0.254930</td>\n",
       "      <td>0.011778</td>\n",
       "    </tr>\n",
       "    <tr>\n",
       "      <th>LinearRegression</th>\n",
       "      <td>0.024241</td>\n",
       "      <td>0.004831</td>\n",
       "    </tr>\n",
       "    <tr>\n",
       "      <th>TimeMoEPredictor</th>\n",
       "      <td>0.000000</td>\n",
       "      <td>5.961116</td>\n",
       "    </tr>\n",
       "    <tr>\n",
       "      <th>chronosPredictor</th>\n",
       "      <td>0.000000</td>\n",
       "      <td>0.374330</td>\n",
       "    </tr>\n",
       "  </tbody>\n",
       "</table>\n",
       "</div>"
      ],
      "text/plain": [
       "                        fit_time  inference_time\n",
       "Model                                           \n",
       "NBEATS                 17.632864        0.214088\n",
       "DynamicOptimizedTheta  15.613503        6.039796\n",
       "AutoARIMA              16.989109        2.224697\n",
       "AutoETS                 2.671610        2.204751\n",
       "Naive                   2.395918        2.107725\n",
       "LGBMRegressor           0.254930        0.011778\n",
       "LinearRegression        0.024241        0.004831\n",
       "TimeMoEPredictor        0.000000        5.961116\n",
       "chronosPredictor        0.000000        0.374330"
      ]
     },
     "execution_count": 42,
     "metadata": {},
     "output_type": "execute_result"
    }
   ],
   "source": [
    "times"
   ]
  },
  {
   "cell_type": "code",
   "execution_count": 43,
   "metadata": {},
   "outputs": [
    {
     "data": {
      "text/html": [
       "<div>\n",
       "<style scoped>\n",
       "    .dataframe tbody tr th:only-of-type {\n",
       "        vertical-align: middle;\n",
       "    }\n",
       "\n",
       "    .dataframe tbody tr th {\n",
       "        vertical-align: top;\n",
       "    }\n",
       "\n",
       "    .dataframe thead th {\n",
       "        text-align: right;\n",
       "    }\n",
       "</style>\n",
       "<table border=\"1\" class=\"dataframe\">\n",
       "  <thead>\n",
       "    <tr style=\"text-align: right;\">\n",
       "      <th>Model</th>\n",
       "      <th>AutoARIMA</th>\n",
       "      <th>AutoETS</th>\n",
       "      <th>DynamicOptimizedTheta</th>\n",
       "      <th>LGBMRegressor</th>\n",
       "      <th>LinearRegression</th>\n",
       "      <th>NBEATS</th>\n",
       "      <th>Naive</th>\n",
       "      <th>TimeMoEPredictor</th>\n",
       "      <th>chronosPredictor</th>\n",
       "    </tr>\n",
       "    <tr>\n",
       "      <th>metric</th>\n",
       "      <th></th>\n",
       "      <th></th>\n",
       "      <th></th>\n",
       "      <th></th>\n",
       "      <th></th>\n",
       "      <th></th>\n",
       "      <th></th>\n",
       "      <th></th>\n",
       "      <th></th>\n",
       "    </tr>\n",
       "  </thead>\n",
       "  <tbody>\n",
       "    <tr>\n",
       "      <th>mape</th>\n",
       "      <td>0.038512</td>\n",
       "      <td>0.040203</td>\n",
       "      <td>0.037035</td>\n",
       "      <td>0.040328</td>\n",
       "      <td>0.046229</td>\n",
       "      <td>0.040322</td>\n",
       "      <td>0.040214</td>\n",
       "      <td>0.041787</td>\n",
       "      <td>0.039209</td>\n",
       "    </tr>\n",
       "    <tr>\n",
       "      <th>mase</th>\n",
       "      <td>0.516533</td>\n",
       "      <td>0.502563</td>\n",
       "      <td>0.475772</td>\n",
       "      <td>0.526787</td>\n",
       "      <td>0.631464</td>\n",
       "      <td>0.513598</td>\n",
       "      <td>0.515858</td>\n",
       "      <td>0.586734</td>\n",
       "      <td>0.521557</td>\n",
       "    </tr>\n",
       "    <tr>\n",
       "      <th>rmse</th>\n",
       "      <td>161.633756</td>\n",
       "      <td>164.476500</td>\n",
       "      <td>151.446931</td>\n",
       "      <td>167.656794</td>\n",
       "      <td>192.529232</td>\n",
       "      <td>154.226982</td>\n",
       "      <td>163.230922</td>\n",
       "      <td>162.940932</td>\n",
       "      <td>159.490566</td>\n",
       "    </tr>\n",
       "    <tr>\n",
       "      <th>rmsse</th>\n",
       "      <td>0.472186</td>\n",
       "      <td>0.464999</td>\n",
       "      <td>0.446007</td>\n",
       "      <td>0.493683</td>\n",
       "      <td>0.577177</td>\n",
       "      <td>0.473542</td>\n",
       "      <td>0.482381</td>\n",
       "      <td>0.546806</td>\n",
       "      <td>0.481660</td>\n",
       "    </tr>\n",
       "  </tbody>\n",
       "</table>\n",
       "</div>"
      ],
      "text/plain": [
       "Model    AutoARIMA     AutoETS  DynamicOptimizedTheta  LGBMRegressor  \\\n",
       "metric                                                                 \n",
       "mape      0.038512    0.040203               0.037035       0.040328   \n",
       "mase      0.516533    0.502563               0.475772       0.526787   \n",
       "rmse    161.633756  164.476500             151.446931     167.656794   \n",
       "rmsse     0.472186    0.464999               0.446007       0.493683   \n",
       "\n",
       "Model   LinearRegression      NBEATS       Naive  TimeMoEPredictor  \\\n",
       "metric                                                               \n",
       "mape            0.046229    0.040322    0.040214          0.041787   \n",
       "mase            0.631464    0.513598    0.515858          0.586734   \n",
       "rmse          192.529232  154.226982  163.230922        162.940932   \n",
       "rmsse           0.577177    0.473542    0.482381          0.546806   \n",
       "\n",
       "Model   chronosPredictor  \n",
       "metric                    \n",
       "mape            0.039209  \n",
       "mase            0.521557  \n",
       "rmse          159.490566  \n",
       "rmsse           0.481660  "
      ]
     },
     "execution_count": 43,
     "metadata": {},
     "output_type": "execute_result"
    }
   ],
   "source": [
    "metrics.groupby(level=[1,2]).median().unstack()"
   ]
  },
  {
   "cell_type": "code",
   "execution_count": 44,
   "metadata": {},
   "outputs": [],
   "source": [
    "md = metrics.groupby(level=[1,2]).median().to_frame().join(times).set_index(\"value\",append=True).stack().rename_axis(index={None: 'time'}).rename(\"time_value\").reset_index()"
   ]
  },
  {
   "cell_type": "code",
   "execution_count": 45,
   "metadata": {},
   "outputs": [
    {
     "data": {
      "text/plain": [
       "<seaborn.axisgrid.FacetGrid at 0x309f74f10>"
      ]
     },
     "execution_count": 45,
     "metadata": {},
     "output_type": "execute_result"
    },
    {
     "data": {
      "image/png": "[encoded data removed]",
      "text/plain": [
       "<Figure size 1422.5x600 with 8 Axes>"
      ]
     },
     "metadata": {},
     "output_type": "display_data"
    }
   ],
   "source": [
    "g = sns.FacetGrid(md, row= \"time\", col=\"metric\", hue = \"Model\",sharey=False,sharex=False)\n",
    "g = g.map(plt.scatter, \"time_value\", \"value\")\n",
    "g.add_legend()"
   ]
  }
 ],
 "metadata": {
  "kernelspec": {
   "display_name": ".venv",
   "language": "python",
   "name": "python3"
  },
  "language_info": {
   "codemirror_mode": {
    "name": "ipython",
    "version": 3
   },
   "file_extension": ".py",
   "mimetype": "text/x-python",
   "name": "python",
   "nbconvert_exporter": "python",
   "pygments_lexer": "ipython3",
   "version": "3.11.10"
  }
 },
 "nbformat": 4,
 "nbformat_minor": 2
}
