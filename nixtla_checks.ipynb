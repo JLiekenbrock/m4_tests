{
 "cells": [
  {
   "cell_type": "code",
   "execution_count": 1,
   "metadata": {},
   "outputs": [
    {
     "name": "stdout",
     "output_type": "stream",
     "text": [
      "Note: you may need to restart the kernel to use updated packages.\n"
     ]
    }
   ],
   "source": [
    "pip install -q -r requirements.txt"
   ]
  },
  {
   "cell_type": "code",
   "execution_count": 2,
   "metadata": {},
   "outputs": [],
   "source": [
    "import pandas as pd\n",
    "import time\n",
    "import numpy as np\n",
    "np.random.seed(42)"
   ]
  },
  {
   "cell_type": "code",
   "execution_count": 3,
   "metadata": {},
   "outputs": [],
   "source": [
    "from datasetsforecast.m4 import M4"
   ]
  },
  {
   "cell_type": "code",
   "execution_count": 4,
   "metadata": {},
   "outputs": [],
   "source": [
    "group = 'Monthly'\n",
    "await M4.async_download('data', group=group)"
   ]
  },
  {
   "cell_type": "code",
   "execution_count": 5,
   "metadata": {},
   "outputs": [],
   "source": [
    "df, *_ = M4.load(directory='data', group=group)\n",
    "n_series = len(np.unique(df.unique_id.values))"
   ]
  },
  {
   "cell_type": "code",
   "execution_count": 6,
   "metadata": {},
   "outputs": [],
   "source": [
    "groups = np.random.choice(df[\"unique_id\"].unique(), size=1000, replace=False)"
   ]
  },
  {
   "cell_type": "code",
   "execution_count": 7,
   "metadata": {},
   "outputs": [],
   "source": [
    "df = df.set_index([\"unique_id\",\"ds\"]).sort_index().groupby(level=0).tail(48)\n",
    "\n",
    "df = df.loc[df.index.get_level_values('unique_id').isin(groups)].reset_index()"
   ]
  },
  {
   "cell_type": "code",
   "execution_count": 8,
   "metadata": {},
   "outputs": [],
   "source": [
    "dates = pd.read_csv(\"data/m4/datasets/M4-info.csv\")"
   ]
  },
  {
   "cell_type": "code",
   "execution_count": 9,
   "metadata": {},
   "outputs": [
    {
     "data": {
      "text/plain": [
       "0        14\n",
       "1        14\n",
       "2        14\n",
       "3        14\n",
       "4        14\n",
       "         ..\n",
       "99995    14\n",
       "99996    14\n",
       "99997    14\n",
       "99998    14\n",
       "99999    14\n",
       "Name: StartingDate, Length: 100000, dtype: int64"
      ]
     },
     "execution_count": 9,
     "metadata": {},
     "output_type": "execute_result"
    }
   ],
   "source": [
    "dates[\"StartingDate\"].str.len()"
   ]
  },
  {
   "cell_type": "code",
   "execution_count": 10,
   "metadata": {},
   "outputs": [
    {
     "name": "stderr",
     "output_type": "stream",
     "text": [
      "/tmp/ipykernel_234203/2711033336.py:3: UserWarning: Could not infer format, so each element will be parsed individually, falling back to `dateutil`. To ensure parsing is consistent and as-expected, please specify a format.\n",
      "  .assign(StartingDate = lambda x : pd.to_datetime(x[\"StartingDate\"]))\n"
     ]
    }
   ],
   "source": [
    "dates = (\n",
    "    dates[ (dates[\"SP\"]==\"Monthly\") & (dates[\"M4id\"].isin(groups)) & (dates[\"StartingDate\"].str.len()==14)]\n",
    "        .assign(StartingDate = lambda x : pd.to_datetime(x[\"StartingDate\"]))\n",
    "        .loc[lambda df: df[\"StartingDate\"]<'2020-01-01']#\n",
    "        .rename(columns = {\"M4id\":\"unique_id\"})\n",
    ")"
   ]
  },
  {
   "cell_type": "code",
   "execution_count": 11,
   "metadata": {},
   "outputs": [],
   "source": [
    "df = (\n",
    "    df.set_index(\"unique_id\")\n",
    "        .join(dates[[\"unique_id\",\"StartingDate\"]].set_index(\"unique_id\"))\n",
    "        .rename(columns={\"ds\":\"row\"})\n",
    "        .assign(\n",
    "            ds = lambda x : pd.to_datetime((x[\"StartingDate\"] + pd.to_timedelta(x[\"row\"]*30, unit='D')).dt.date)\n",
    "            )\n",
    "        .reset_index()\n",
    ")"
   ]
  },
  {
   "cell_type": "code",
   "execution_count": 12,
   "metadata": {},
   "outputs": [
    {
     "data": {
      "text/plain": [
       "unique_id               object\n",
       "row                      int64\n",
       "y                      float64\n",
       "StartingDate    datetime64[ns]\n",
       "ds              datetime64[ns]\n",
       "dtype: object"
      ]
     },
     "execution_count": 12,
     "metadata": {},
     "output_type": "execute_result"
    }
   ],
   "source": [
    "df.dtypes"
   ]
  },
  {
   "cell_type": "code",
   "execution_count": 13,
   "metadata": {},
   "outputs": [
    {
     "name": "stderr",
     "output_type": "stream",
     "text": [
      "/tmp/ipykernel_234203/2498131243.py:1: FutureWarning: The provided callable <built-in function max> is currently using SeriesGroupBy.max. In a future version of pandas, the provided callable will be used directly. To keep current behavior pass the string \"max\" instead.\n",
      "  df[\"test\"] = df[\"row\"]>df.groupby(\"unique_id\")[\"row\"].transform(max)-3\n"
     ]
    }
   ],
   "source": [
    "df[\"test\"] = df[\"row\"]>df.groupby(\"unique_id\")[\"row\"].transform(max)-3"
   ]
  },
  {
   "cell_type": "code",
   "execution_count": 14,
   "metadata": {},
   "outputs": [],
   "source": [
    "train = df[df[\"test\"]==0].sort_values(by=[\"unique_id\",\"ds\"]).drop(columns=[\"test\",\"row\",\"StartingDate\"])\n",
    "test = df[df[\"test\"]==1].sort_values(by=[\"unique_id\",\"ds\"]).drop(columns=[\"test\",\"row\",\"StartingDate\"])"
   ]
  },
  {
   "cell_type": "code",
   "execution_count": 15,
   "metadata": {},
   "outputs": [
    {
     "name": "stderr",
     "output_type": "stream",
     "text": [
      "/home/jan/m4_tests/.venv/lib64/python3.12/site-packages/tqdm/auto.py:21: TqdmWarning: IProgress not found. Please update jupyter and ipywidgets. See https://ipywidgets.readthedocs.io/en/stable/user_install.html\n",
      "  from .autonotebook import tqdm as notebook_tqdm\n"
     ]
    }
   ],
   "source": [
    "from statsforecast import StatsForecast\n",
    "import time"
   ]
  },
  {
   "cell_type": "code",
   "execution_count": 16,
   "metadata": {},
   "outputs": [
    {
     "name": "stderr",
     "output_type": "stream",
     "text": [
      "2024-12-05 18:15:52,505\tINFO util.py:154 -- Missing packages: ['ipywidgets']. Run `pip install -U ipywidgets`, then restart the notebook server for rich notebook output.\n",
      "2024-12-05 18:15:52,546\tINFO util.py:154 -- Missing packages: ['ipywidgets']. Run `pip install -U ipywidgets`, then restart the notebook server for rich notebook output.\n"
     ]
    }
   ],
   "source": [
    "from statsforecast.models import (\n",
    "    HistoricAverage,\n",
    "    DynamicOptimizedTheta as DOT,\n",
    "    SeasonalNaive,\n",
    "    AutoARIMA,\n",
    "    AutoETS\n",
    ")\n",
    "from neuralforecast import NeuralForecast\n",
    "from neuralforecast.models import NBEATS\n",
    "from neuralforecast.losses.pytorch import DistributionLoss"
   ]
  },
  {
   "cell_type": "code",
   "execution_count": 17,
   "metadata": {},
   "outputs": [
    {
     "name": "stderr",
     "output_type": "stream",
     "text": [
      "INFO:lightning_fabric.utilities.seed:Seed set to 1\n"
     ]
    }
   ],
   "source": [
    "# Create a list of models and instantiation parameters\n",
    "model_names = [\"HistoricAverage\",\"DynamicOptimizedTheta\",\"SeasonalNaive\",\"AutoARIMA\",\"AutoETS\",\"NBEATS\"]\n",
    "\n",
    "season_length = 12\n",
    "\n",
    "models_classes_stats = [\n",
    "    HistoricAverage(),\n",
    "    DOT(season_length=season_length),\n",
    "    SeasonalNaive(season_length=season_length),\n",
    "    AutoARIMA(),\n",
    "    AutoETS()\n",
    "]\n",
    "\n",
    "model_classes_neural = [\n",
    "    NBEATS(h=3, input_size=10,\n",
    "               stack_types = ['identity', 'trend', 'seasonality']\n",
    "            )\n",
    "]\n"
   ]
  },
  {
   "cell_type": "code",
   "execution_count": 18,
   "metadata": {},
   "outputs": [],
   "source": [
    "model_wrappers = []\n",
    "model_wrappers = []\n",
    "\n",
    "for model in model_classes_neural:\n",
    "    model_wrappers.append(\n",
    "        NeuralForecast( \n",
    "            models=[model],\n",
    "            freq=\"M\"\n",
    "        )\n",
    "    )    \n",
    "    \n",
    "for model in models_classes_stats:\n",
    "    model_wrappers.append(\n",
    "        StatsForecast( \n",
    "            models=[model],\n",
    "            freq=\"M\", \n",
    "            fallback_model = SeasonalNaive(season_length=12),\n",
    "            n_jobs=-1,\n",
    "        )\n",
    "    )    \n"
   ]
  },
  {
   "cell_type": "code",
   "execution_count": 19,
   "metadata": {},
   "outputs": [
    {
     "name": "stderr",
     "output_type": "stream",
     "text": [
      "INFO:pytorch_lightning.utilities.rank_zero:GPU available: True (cuda), used: True\n",
      "INFO:pytorch_lightning.utilities.rank_zero:TPU available: False, using: 0 TPU cores\n",
      "INFO:pytorch_lightning.utilities.rank_zero:HPU available: False, using: 0 HPUs\n",
      "INFO:pytorch_lightning.utilities.rank_zero:You are using a CUDA device ('NVIDIA GeForce RTX 3060') that has Tensor Cores. To properly utilize them, you should set `torch.set_float32_matmul_precision('medium' | 'high')` which will trade-off precision for performance. For more details, read https://pytorch.org/docs/stable/generated/torch.set_float32_matmul_precision.html#torch.set_float32_matmul_precision\n",
      "INFO:pytorch_lightning.accelerators.cuda:LOCAL_RANK: 0 - CUDA_VISIBLE_DEVICES: [0]\n",
      "INFO:pytorch_lightning.callbacks.model_summary:\n",
      "  | Name         | Type          | Params | Mode \n",
      "-------------------------------------------------------\n",
      "0 | loss         | MAE           | 0      | train\n",
      "1 | padder_train | ConstantPad1d | 0      | train\n",
      "2 | scaler       | TemporalNorm  | 0      | train\n",
      "3 | blocks       | ModuleList    | 2.4 M  | train\n",
      "-------------------------------------------------------\n",
      "2.4 M     Trainable params\n",
      "91        Non-trainable params\n",
      "2.4 M     Total params\n",
      "9.579     Total estimated model params size (MB)\n",
      "31        Modules in train mode\n",
      "0         Modules in eval mode\n"
     ]
    },
    {
     "name": "stdout",
     "output_type": "stream",
     "text": [
      "<neuralforecast.core.NeuralForecast object at 0x7f8d51121460>\n",
      "Epoch 31:  25%|██▌       | 8/32 [00:00<00:00, 106.13it/s, v_num=17, train_loss_step=390.0, train_loss_epoch=341.0] "
     ]
    },
    {
     "name": "stderr",
     "output_type": "stream",
     "text": [
      "INFO:pytorch_lightning.utilities.rank_zero:`Trainer.fit` stopped: `max_steps=1000` reached.\n"
     ]
    },
    {
     "name": "stdout",
     "output_type": "stream",
     "text": [
      "Epoch 31:  25%|██▌       | 8/32 [00:00<00:00, 105.19it/s, v_num=17, train_loss_step=390.0, train_loss_epoch=341.0]\n",
      "StatsForecast(models=[HistoricAverage])\n",
      "StatsForecast(models=[DynamicOptimizedTheta])\n",
      "StatsForecast(models=[SeasonalNaive])\n",
      "StatsForecast(models=[AutoARIMA])\n",
      "StatsForecast(models=[AutoETS])\n"
     ]
    }
   ],
   "source": [
    "fit_times = []\n",
    "\n",
    "for model in model_wrappers:\n",
    "    print(model)\n",
    "    start = time.time()\n",
    "    model.fit(df=train)\n",
    "    fit_times.append(time.time()-start)\n",
    "    "
   ]
  },
  {
   "cell_type": "code",
   "execution_count": 20,
   "metadata": {},
   "outputs": [
    {
     "data": {
      "text/plain": [
       "[6.521298408508301,\n",
       " 0.34830689430236816,\n",
       " 15.339502811431885,\n",
       " 0.35326719284057617,\n",
       " 15.202961683273315,\n",
       " 0.7005267143249512]"
      ]
     },
     "execution_count": 20,
     "metadata": {},
     "output_type": "execute_result"
    }
   ],
   "source": [
    "fit_times"
   ]
  },
  {
   "cell_type": "code",
   "execution_count": 21,
   "metadata": {},
   "outputs": [
    {
     "name": "stderr",
     "output_type": "stream",
     "text": [
      "/home/jan/m4_tests/.venv/lib64/python3.12/site-packages/utilsforecast/processing.py:384: FutureWarning: 'M' is deprecated and will be removed in a future version, please use 'ME' instead.\n",
      "  freq = pd.tseries.frequencies.to_offset(freq)\n",
      "/home/jan/m4_tests/.venv/lib64/python3.12/site-packages/utilsforecast/processing.py:440: FutureWarning: 'M' is deprecated and will be removed in a future version, please use 'ME' instead.\n",
      "  freq = pd.tseries.frequencies.to_offset(freq)\n",
      "INFO:pytorch_lightning.utilities.rank_zero:GPU available: True (cuda), used: True\n",
      "INFO:pytorch_lightning.utilities.rank_zero:TPU available: False, using: 0 TPU cores\n",
      "INFO:pytorch_lightning.utilities.rank_zero:HPU available: False, using: 0 HPUs\n",
      "INFO:pytorch_lightning.accelerators.cuda:LOCAL_RANK: 0 - CUDA_VISIBLE_DEVICES: [0]\n"
     ]
    },
    {
     "name": "stdout",
     "output_type": "stream",
     "text": [
      "Predicting DataLoader 0: 100%|██████████| 32/32 [00:00<00:00, 693.83it/s]\n"
     ]
    },
    {
     "name": "stderr",
     "output_type": "stream",
     "text": [
      "/home/jan/m4_tests/.venv/lib64/python3.12/site-packages/neuralforecast/core.py:214: FutureWarning: In a future version the predictions will have the id as a column. You can set the `NIXTLA_ID_AS_COL` environment variable to adopt the new behavior and to suppress this warning.\n",
      "  warnings.warn(\n",
      "/home/jan/m4_tests/.venv/lib64/python3.12/site-packages/utilsforecast/processing.py:384: FutureWarning: 'M' is deprecated and will be removed in a future version, please use 'ME' instead.\n",
      "  freq = pd.tseries.frequencies.to_offset(freq)\n",
      "/home/jan/m4_tests/.venv/lib64/python3.12/site-packages/utilsforecast/processing.py:440: FutureWarning: 'M' is deprecated and will be removed in a future version, please use 'ME' instead.\n",
      "  freq = pd.tseries.frequencies.to_offset(freq)\n",
      "/home/jan/m4_tests/.venv/lib64/python3.12/site-packages/utilsforecast/processing.py:384: FutureWarning: 'M' is deprecated and will be removed in a future version, please use 'ME' instead.\n",
      "  freq = pd.tseries.frequencies.to_offset(freq)\n",
      "/home/jan/m4_tests/.venv/lib64/python3.12/site-packages/utilsforecast/processing.py:440: FutureWarning: 'M' is deprecated and will be removed in a future version, please use 'ME' instead.\n",
      "  freq = pd.tseries.frequencies.to_offset(freq)\n",
      "/home/jan/m4_tests/.venv/lib64/python3.12/site-packages/utilsforecast/processing.py:384: FutureWarning: 'M' is deprecated and will be removed in a future version, please use 'ME' instead.\n",
      "  freq = pd.tseries.frequencies.to_offset(freq)\n",
      "/home/jan/m4_tests/.venv/lib64/python3.12/site-packages/utilsforecast/processing.py:440: FutureWarning: 'M' is deprecated and will be removed in a future version, please use 'ME' instead.\n",
      "  freq = pd.tseries.frequencies.to_offset(freq)\n",
      "/home/jan/m4_tests/.venv/lib64/python3.12/site-packages/utilsforecast/processing.py:384: FutureWarning: 'M' is deprecated and will be removed in a future version, please use 'ME' instead.\n",
      "  freq = pd.tseries.frequencies.to_offset(freq)\n",
      "/home/jan/m4_tests/.venv/lib64/python3.12/site-packages/utilsforecast/processing.py:440: FutureWarning: 'M' is deprecated and will be removed in a future version, please use 'ME' instead.\n",
      "  freq = pd.tseries.frequencies.to_offset(freq)\n",
      "/home/jan/m4_tests/.venv/lib64/python3.12/site-packages/utilsforecast/processing.py:384: FutureWarning: 'M' is deprecated and will be removed in a future version, please use 'ME' instead.\n",
      "  freq = pd.tseries.frequencies.to_offset(freq)\n",
      "/home/jan/m4_tests/.venv/lib64/python3.12/site-packages/utilsforecast/processing.py:440: FutureWarning: 'M' is deprecated and will be removed in a future version, please use 'ME' instead.\n",
      "  freq = pd.tseries.frequencies.to_offset(freq)\n"
     ]
    }
   ],
   "source": [
    "forecasts = []\n",
    "forecast_times = []\n",
    "\n",
    "for model in model_wrappers:\n",
    "\n",
    "    start = time.time()\n",
    "\n",
    "    if isinstance(model, NeuralForecast):\n",
    "        forecasts.append(model.predict().reset_index())\n",
    "    else:\n",
    "        forecasts.append(model.predict(h=3))\n",
    "\n",
    "    forecast_times.append(time.time()-start)\n"
   ]
  },
  {
   "cell_type": "code",
   "execution_count": 22,
   "metadata": {},
   "outputs": [
    {
     "data": {
      "text/html": [
       "<div>\n",
       "<style scoped>\n",
       "    .dataframe tbody tr th:only-of-type {\n",
       "        vertical-align: middle;\n",
       "    }\n",
       "\n",
       "    .dataframe tbody tr th {\n",
       "        vertical-align: top;\n",
       "    }\n",
       "\n",
       "    .dataframe thead th {\n",
       "        text-align: right;\n",
       "    }\n",
       "</style>\n",
       "<table border=\"1\" class=\"dataframe\">\n",
       "  <thead>\n",
       "    <tr style=\"text-align: right;\">\n",
       "      <th></th>\n",
       "      <th>unique_id</th>\n",
       "      <th>y</th>\n",
       "      <th>ds</th>\n",
       "    </tr>\n",
       "  </thead>\n",
       "  <tbody>\n",
       "    <tr>\n",
       "      <th>0</th>\n",
       "      <td>M10000</td>\n",
       "      <td>2740.0</td>\n",
       "      <td>2013-05-15</td>\n",
       "    </tr>\n",
       "    <tr>\n",
       "      <th>1</th>\n",
       "      <td>M10000</td>\n",
       "      <td>3000.0</td>\n",
       "      <td>2013-06-14</td>\n",
       "    </tr>\n",
       "    <tr>\n",
       "      <th>2</th>\n",
       "      <td>M10000</td>\n",
       "      <td>3040.0</td>\n",
       "      <td>2013-07-14</td>\n",
       "    </tr>\n",
       "    <tr>\n",
       "      <th>3</th>\n",
       "      <td>M10000</td>\n",
       "      <td>2920.0</td>\n",
       "      <td>2013-08-13</td>\n",
       "    </tr>\n",
       "    <tr>\n",
       "      <th>4</th>\n",
       "      <td>M10000</td>\n",
       "      <td>2870.0</td>\n",
       "      <td>2013-09-12</td>\n",
       "    </tr>\n",
       "    <tr>\n",
       "      <th>...</th>\n",
       "      <td>...</td>\n",
       "      <td>...</td>\n",
       "      <td>...</td>\n",
       "    </tr>\n",
       "    <tr>\n",
       "      <th>47992</th>\n",
       "      <td>M9964</td>\n",
       "      <td>700.0</td>\n",
       "      <td>2016-08-27</td>\n",
       "    </tr>\n",
       "    <tr>\n",
       "      <th>47993</th>\n",
       "      <td>M9964</td>\n",
       "      <td>630.0</td>\n",
       "      <td>2016-09-26</td>\n",
       "    </tr>\n",
       "    <tr>\n",
       "      <th>47994</th>\n",
       "      <td>M9964</td>\n",
       "      <td>630.0</td>\n",
       "      <td>2016-10-26</td>\n",
       "    </tr>\n",
       "    <tr>\n",
       "      <th>47995</th>\n",
       "      <td>M9964</td>\n",
       "      <td>610.0</td>\n",
       "      <td>2016-11-25</td>\n",
       "    </tr>\n",
       "    <tr>\n",
       "      <th>47996</th>\n",
       "      <td>M9964</td>\n",
       "      <td>520.0</td>\n",
       "      <td>2016-12-25</td>\n",
       "    </tr>\n",
       "  </tbody>\n",
       "</table>\n",
       "<p>45000 rows × 3 columns</p>\n",
       "</div>"
      ],
      "text/plain": [
       "      unique_id       y         ds\n",
       "0        M10000  2740.0 2013-05-15\n",
       "1        M10000  3000.0 2013-06-14\n",
       "2        M10000  3040.0 2013-07-14\n",
       "3        M10000  2920.0 2013-08-13\n",
       "4        M10000  2870.0 2013-09-12\n",
       "...         ...     ...        ...\n",
       "47992     M9964   700.0 2016-08-27\n",
       "47993     M9964   630.0 2016-09-26\n",
       "47994     M9964   630.0 2016-10-26\n",
       "47995     M9964   610.0 2016-11-25\n",
       "47996     M9964   520.0 2016-12-25\n",
       "\n",
       "[45000 rows x 3 columns]"
      ]
     },
     "execution_count": 22,
     "metadata": {},
     "output_type": "execute_result"
    }
   ],
   "source": [
    "train"
   ]
  },
  {
   "cell_type": "code",
   "execution_count": 23,
   "metadata": {},
   "outputs": [
    {
     "data": {
      "text/plain": [
       "[0.09626007080078125,\n",
       " 0.2944672107696533,\n",
       " 4.826206922531128,\n",
       " 0.38187074661254883,\n",
       " 0.5406603813171387,\n",
       " 0.31862473487854004]"
      ]
     },
     "execution_count": 23,
     "metadata": {},
     "output_type": "execute_result"
    }
   ],
   "source": [
    "forecast_times"
   ]
  },
  {
   "cell_type": "code",
   "execution_count": 24,
   "metadata": {},
   "outputs": [],
   "source": [
    "from utilsforecast.evaluation import evaluate\n",
    "from utilsforecast.losses import mape, mase, rmse, rmsse\n",
    "from functools import partial\n",
    "\n",
    "metrics = [\n",
    "    mape,\n",
    "    rmse,\n",
    "    partial(mase, seasonality=12),\n",
    "    partial(rmsse, seasonality=12),\n",
    "]"
   ]
  },
  {
   "cell_type": "code",
   "execution_count": 25,
   "metadata": {},
   "outputs": [
    {
     "data": {
      "text/html": [
       "<div>\n",
       "<style scoped>\n",
       "    .dataframe tbody tr th:only-of-type {\n",
       "        vertical-align: middle;\n",
       "    }\n",
       "\n",
       "    .dataframe tbody tr th {\n",
       "        vertical-align: top;\n",
       "    }\n",
       "\n",
       "    .dataframe thead th {\n",
       "        text-align: right;\n",
       "    }\n",
       "</style>\n",
       "<table border=\"1\" class=\"dataframe\">\n",
       "  <thead>\n",
       "    <tr style=\"text-align: right;\">\n",
       "      <th></th>\n",
       "      <th>unique_id</th>\n",
       "      <th>y</th>\n",
       "      <th>ds</th>\n",
       "    </tr>\n",
       "  </thead>\n",
       "  <tbody>\n",
       "    <tr>\n",
       "      <th>45</th>\n",
       "      <td>M10000</td>\n",
       "      <td>2410.0</td>\n",
       "      <td>2017-01-24</td>\n",
       "    </tr>\n",
       "    <tr>\n",
       "      <th>46</th>\n",
       "      <td>M10000</td>\n",
       "      <td>2540.0</td>\n",
       "      <td>2017-02-23</td>\n",
       "    </tr>\n",
       "    <tr>\n",
       "      <th>47</th>\n",
       "      <td>M10000</td>\n",
       "      <td>2890.0</td>\n",
       "      <td>2017-03-25</td>\n",
       "    </tr>\n",
       "    <tr>\n",
       "      <th>93</th>\n",
       "      <td>M10127</td>\n",
       "      <td>1118.0</td>\n",
       "      <td>2016-07-09</td>\n",
       "    </tr>\n",
       "    <tr>\n",
       "      <th>94</th>\n",
       "      <td>M10127</td>\n",
       "      <td>1107.0</td>\n",
       "      <td>2016-08-08</td>\n",
       "    </tr>\n",
       "    <tr>\n",
       "      <th>...</th>\n",
       "      <td>...</td>\n",
       "      <td>...</td>\n",
       "      <td>...</td>\n",
       "    </tr>\n",
       "    <tr>\n",
       "      <th>47950</th>\n",
       "      <td>M9942</td>\n",
       "      <td>1480.0</td>\n",
       "      <td>2017-02-23</td>\n",
       "    </tr>\n",
       "    <tr>\n",
       "      <th>47951</th>\n",
       "      <td>M9942</td>\n",
       "      <td>1380.0</td>\n",
       "      <td>2017-03-25</td>\n",
       "    </tr>\n",
       "    <tr>\n",
       "      <th>47997</th>\n",
       "      <td>M9964</td>\n",
       "      <td>460.0</td>\n",
       "      <td>2017-01-24</td>\n",
       "    </tr>\n",
       "    <tr>\n",
       "      <th>47998</th>\n",
       "      <td>M9964</td>\n",
       "      <td>470.0</td>\n",
       "      <td>2017-02-23</td>\n",
       "    </tr>\n",
       "    <tr>\n",
       "      <th>47999</th>\n",
       "      <td>M9964</td>\n",
       "      <td>440.0</td>\n",
       "      <td>2017-03-25</td>\n",
       "    </tr>\n",
       "  </tbody>\n",
       "</table>\n",
       "<p>3000 rows × 3 columns</p>\n",
       "</div>"
      ],
      "text/plain": [
       "      unique_id       y         ds\n",
       "45       M10000  2410.0 2017-01-24\n",
       "46       M10000  2540.0 2017-02-23\n",
       "47       M10000  2890.0 2017-03-25\n",
       "93       M10127  1118.0 2016-07-09\n",
       "94       M10127  1107.0 2016-08-08\n",
       "...         ...     ...        ...\n",
       "47950     M9942  1480.0 2017-02-23\n",
       "47951     M9942  1380.0 2017-03-25\n",
       "47997     M9964   460.0 2017-01-24\n",
       "47998     M9964   470.0 2017-02-23\n",
       "47999     M9964   440.0 2017-03-25\n",
       "\n",
       "[3000 rows x 3 columns]"
      ]
     },
     "execution_count": 25,
     "metadata": {},
     "output_type": "execute_result"
    }
   ],
   "source": [
    "test"
   ]
  },
  {
   "cell_type": "code",
   "execution_count": 26,
   "metadata": {},
   "outputs": [
    {
     "name": "stdout",
     "output_type": "stream",
     "text": [
      "     unique_id         ds       NBEATS\n",
      "0       M10000 2016-12-31  2312.993896\n",
      "1       M10000 2017-01-31  2201.563477\n",
      "2       M10000 2017-02-28  2072.066162\n",
      "3       M10127 2016-06-30  1105.449219\n",
      "4       M10127 2016-07-31  1106.429077\n",
      "...        ...        ...          ...\n",
      "2995     M9942 2017-01-31  1721.115479\n",
      "2996     M9942 2017-02-28  1718.626343\n",
      "2997     M9964 2016-12-31   504.776001\n",
      "2998     M9964 2017-01-31   497.198578\n",
      "2999     M9964 2017-02-28   511.440216\n",
      "\n",
      "[3000 rows x 3 columns]\n",
      "     unique_id         ds  HistoricAverage\n",
      "0       M10000 2016-12-31      2496.444444\n",
      "1       M10000 2017-01-31      2496.444444\n",
      "2       M10000 2017-02-28      2496.444444\n",
      "3       M10127 2016-06-30      1059.200000\n",
      "4       M10127 2016-07-31      1059.200000\n",
      "...        ...        ...              ...\n",
      "2995     M9942 2017-01-31      2070.222222\n",
      "2996     M9942 2017-02-28      2070.222222\n",
      "2997     M9964 2016-12-31       822.888889\n",
      "2998     M9964 2017-01-31       822.888889\n",
      "2999     M9964 2017-02-28       822.888889\n",
      "\n",
      "[3000 rows x 3 columns]\n",
      "     unique_id         ds  DynamicOptimizedTheta\n",
      "0       M10000 2016-12-31            2463.288818\n",
      "1       M10000 2017-01-31            2463.288818\n",
      "2       M10000 2017-02-28            2463.288818\n",
      "3       M10127 2016-06-30            1103.183350\n",
      "4       M10127 2016-07-31            1104.636230\n",
      "...        ...        ...                    ...\n",
      "2995     M9942 2017-01-31            1720.799927\n",
      "2996     M9942 2017-02-28            1720.799927\n",
      "2997     M9964 2016-12-31             520.901978\n",
      "2998     M9964 2017-01-31             520.901978\n",
      "2999     M9964 2017-02-28             520.901978\n",
      "\n",
      "[3000 rows x 3 columns]\n",
      "     unique_id         ds  SeasonalNaive\n",
      "0       M10000 2016-12-31         1640.0\n",
      "1       M10000 2017-01-31         1680.0\n",
      "2       M10000 2017-02-28         1870.0\n",
      "3       M10127 2016-06-30         1087.0\n",
      "4       M10127 2016-07-31         1104.0\n",
      "...        ...        ...            ...\n",
      "2995     M9942 2017-01-31         1540.0\n",
      "2996     M9942 2017-02-28         1580.0\n",
      "2997     M9964 2016-12-31          500.0\n",
      "2998     M9964 2017-01-31          480.0\n",
      "2999     M9964 2017-02-28          520.0\n",
      "\n",
      "[3000 rows x 3 columns]\n",
      "     unique_id         ds    AutoARIMA\n",
      "0       M10000 2016-12-31  2307.210129\n",
      "1       M10000 2017-01-31  2307.210129\n",
      "2       M10000 2017-02-28  2307.210129\n",
      "3       M10127 2016-06-30  1105.035688\n",
      "4       M10127 2016-07-31  1110.916843\n",
      "...        ...        ...          ...\n",
      "2995     M9942 2017-01-31  1720.000000\n",
      "2996     M9942 2017-02-28  1720.000000\n",
      "2997     M9964 2016-12-31   487.217463\n",
      "2998     M9964 2017-01-31   487.217463\n",
      "2999     M9964 2017-02-28   487.217463\n",
      "\n",
      "[3000 rows x 3 columns]\n",
      "     unique_id         ds      AutoETS\n",
      "0       M10000 2016-12-31  2460.032999\n",
      "1       M10000 2017-01-31  2460.032999\n",
      "2       M10000 2017-02-28  2460.032999\n",
      "3       M10127 2016-06-30  1109.175747\n",
      "4       M10127 2016-07-31  1111.347495\n",
      "...        ...        ...          ...\n",
      "2995     M9942 2017-01-31  1720.008000\n",
      "2996     M9942 2017-02-28  1720.008000\n",
      "2997     M9964 2016-12-31   520.009000\n",
      "2998     M9964 2017-01-31   520.009000\n",
      "2999     M9964 2017-02-28   520.009000\n",
      "\n",
      "[3000 rows x 3 columns]\n"
     ]
    }
   ],
   "source": [
    "test = test.set_index(\"unique_id\")\n",
    "\n",
    "for forecast in forecasts:\n",
    "    print(forecast)\n",
    "    test = pd.concat([test,forecast.drop(columns=\"ds\").set_index(\"unique_id\")],axis=1)"
   ]
  },
  {
   "cell_type": "code",
   "execution_count": 27,
   "metadata": {},
   "outputs": [],
   "source": [
    "test = test.reset_index()"
   ]
  },
  {
   "cell_type": "code",
   "execution_count": 28,
   "metadata": {},
   "outputs": [],
   "source": [
    "eval = evaluate(test, metrics=metrics, train_df=train)"
   ]
  },
  {
   "cell_type": "code",
   "execution_count": 29,
   "metadata": {},
   "outputs": [],
   "source": [
    "metrics = eval.set_index([\"unique_id\",\"metric\"]).stack().rename_axis(index={None: 'Model'}).rename(\"value\")"
   ]
  },
  {
   "cell_type": "code",
   "execution_count": 30,
   "metadata": {},
   "outputs": [],
   "source": [
    "times = pd.DataFrame(\n",
    "    {\n",
    "        \"Model\":model_names,\n",
    "        \"fit_time\":fit_times,\n",
    "        \"inference_time\":forecast_times\n",
    "    }\n",
    ").set_index(\"Model\")"
   ]
  },
  {
   "cell_type": "code",
   "execution_count": 31,
   "metadata": {},
   "outputs": [
    {
     "data": {
      "text/html": [
       "<div>\n",
       "<style scoped>\n",
       "    .dataframe tbody tr th:only-of-type {\n",
       "        vertical-align: middle;\n",
       "    }\n",
       "\n",
       "    .dataframe tbody tr th {\n",
       "        vertical-align: top;\n",
       "    }\n",
       "\n",
       "    .dataframe thead th {\n",
       "        text-align: right;\n",
       "    }\n",
       "</style>\n",
       "<table border=\"1\" class=\"dataframe\">\n",
       "  <thead>\n",
       "    <tr style=\"text-align: right;\">\n",
       "      <th>Model</th>\n",
       "      <th>AutoARIMA</th>\n",
       "      <th>AutoETS</th>\n",
       "      <th>DynamicOptimizedTheta</th>\n",
       "      <th>HistoricAverage</th>\n",
       "      <th>NBEATS</th>\n",
       "      <th>SeasonalNaive</th>\n",
       "    </tr>\n",
       "    <tr>\n",
       "      <th>metric</th>\n",
       "      <th></th>\n",
       "      <th></th>\n",
       "      <th></th>\n",
       "      <th></th>\n",
       "      <th></th>\n",
       "      <th></th>\n",
       "    </tr>\n",
       "  </thead>\n",
       "  <tbody>\n",
       "    <tr>\n",
       "      <th>mape</th>\n",
       "      <td>0.039272</td>\n",
       "      <td>0.040562</td>\n",
       "      <td>0.037035</td>\n",
       "      <td>0.095473</td>\n",
       "      <td>0.038956</td>\n",
       "      <td>0.070072</td>\n",
       "    </tr>\n",
       "    <tr>\n",
       "      <th>mase</th>\n",
       "      <td>0.517773</td>\n",
       "      <td>0.501855</td>\n",
       "      <td>0.475772</td>\n",
       "      <td>1.347623</td>\n",
       "      <td>0.513992</td>\n",
       "      <td>0.917067</td>\n",
       "    </tr>\n",
       "    <tr>\n",
       "      <th>rmse</th>\n",
       "      <td>161.511496</td>\n",
       "      <td>164.476500</td>\n",
       "      <td>151.446931</td>\n",
       "      <td>414.833355</td>\n",
       "      <td>159.414102</td>\n",
       "      <td>280.888254</td>\n",
       "    </tr>\n",
       "    <tr>\n",
       "      <th>rmsse</th>\n",
       "      <td>0.474471</td>\n",
       "      <td>0.463602</td>\n",
       "      <td>0.445671</td>\n",
       "      <td>1.172506</td>\n",
       "      <td>0.475709</td>\n",
       "      <td>0.824101</td>\n",
       "    </tr>\n",
       "  </tbody>\n",
       "</table>\n",
       "</div>"
      ],
      "text/plain": [
       "Model    AutoARIMA     AutoETS  DynamicOptimizedTheta  HistoricAverage  \\\n",
       "metric                                                                   \n",
       "mape      0.039272    0.040562               0.037035         0.095473   \n",
       "mase      0.517773    0.501855               0.475772         1.347623   \n",
       "rmse    161.511496  164.476500             151.446931       414.833355   \n",
       "rmsse     0.474471    0.463602               0.445671         1.172506   \n",
       "\n",
       "Model       NBEATS  SeasonalNaive  \n",
       "metric                             \n",
       "mape      0.038956       0.070072  \n",
       "mase      0.513992       0.917067  \n",
       "rmse    159.414102     280.888254  \n",
       "rmsse     0.475709       0.824101  "
      ]
     },
     "execution_count": 31,
     "metadata": {},
     "output_type": "execute_result"
    }
   ],
   "source": [
    "metrics.groupby(level=[1,2]).median().unstack()"
   ]
  },
  {
   "cell_type": "code",
   "execution_count": 32,
   "metadata": {},
   "outputs": [],
   "source": [
    "md = metrics.groupby(level=[1,2]).mean().to_frame().join(times).set_index(\"value\",append=True).stack().rename_axis(index={None: 'time'}).rename(\"time_value\").reset_index()"
   ]
  },
  {
   "cell_type": "code",
   "execution_count": 33,
   "metadata": {},
   "outputs": [],
   "source": [
    "import seaborn as sns"
   ]
  },
  {
   "cell_type": "code",
   "execution_count": 34,
   "metadata": {},
   "outputs": [
    {
     "data": {
      "text/plain": [
       "<seaborn.axisgrid.FacetGrid at 0x7f8e7f998e00>"
      ]
     },
     "execution_count": 34,
     "metadata": {},
     "output_type": "execute_result"
    },
    {
     "data": {
      "image/png": "[encoded data removed]",
      "text/plain": [
       "<Figure size 822.5x1200 with 8 Axes>"
      ]
     },
     "metadata": {},
     "output_type": "display_data"
    }
   ],
   "source": [
    "import matplotlib.pyplot as plt\n",
    "g = sns.FacetGrid(md, row= \"metric\", col=\"time\", hue = \"Model\",sharey=False,sharex=False)\n",
    "g = g.map(plt.scatter, \"time_value\", \"value\")\n",
    "g.add_legend()"
   ]
  }
 ],
 "metadata": {
  "kernelspec": {
   "display_name": ".venv",
   "language": "python",
   "name": "python3"
  },
  "language_info": {
   "codemirror_mode": {
    "name": "ipython",
    "version": 3
   },
   "file_extension": ".py",
   "mimetype": "text/x-python",
   "name": "python",
   "nbconvert_exporter": "python",
   "pygments_lexer": "ipython3",
   "version": "3.12.7"
  }
 },
 "nbformat": 4,
 "nbformat_minor": 2
}
