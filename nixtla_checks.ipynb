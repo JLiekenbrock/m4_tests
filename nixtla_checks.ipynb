{
 "cells": [
  {
   "cell_type": "code",
   "execution_count": 128,
   "metadata": {},
   "outputs": [
    {
     "name": "stdout",
     "output_type": "stream",
     "text": [
      "Looking in indexes: https://pypi.org/simple, https://pypi.ngc.nvidia.com\n",
      "Requirement already satisfied: datasetsforecast in ./.venv/lib64/python3.12/site-packages (from -r requirements.txt (line 1)) (0.0.8)\n",
      "Requirement already satisfied: statsforecast in ./.venv/lib64/python3.12/site-packages (from -r requirements.txt (line 2)) (2.0.0)\n",
      "Requirement already satisfied: utilsforecast in ./.venv/lib64/python3.12/site-packages (from -r requirements.txt (line 3)) (0.2.10)\n",
      "Collecting seaborn (from -r requirements.txt (line 4))\n",
      "  Downloading seaborn-0.13.2-py3-none-any.whl.metadata (5.4 kB)\n",
      "Requirement already satisfied: aiohttp in ./.venv/lib64/python3.12/site-packages (from datasetsforecast->-r requirements.txt (line 1)) (3.11.9)\n",
      "Requirement already satisfied: fugue>=0.8.1 in ./.venv/lib64/python3.12/site-packages (from datasetsforecast->-r requirements.txt (line 1)) (0.9.1)\n",
      "Requirement already satisfied: numba in ./.venv/lib64/python3.12/site-packages (from datasetsforecast->-r requirements.txt (line 1)) (0.60.0)\n",
      "Requirement already satisfied: numpy in ./.venv/lib64/python3.12/site-packages (from datasetsforecast->-r requirements.txt (line 1)) (2.0.2)\n",
      "Requirement already satisfied: pandas in ./.venv/lib64/python3.12/site-packages (from datasetsforecast->-r requirements.txt (line 1)) (2.2.3)\n",
      "Requirement already satisfied: requests in ./.venv/lib64/python3.12/site-packages (from datasetsforecast->-r requirements.txt (line 1)) (2.32.3)\n",
      "Requirement already satisfied: tqdm in ./.venv/lib64/python3.12/site-packages (from datasetsforecast->-r requirements.txt (line 1)) (4.67.1)\n",
      "Requirement already satisfied: xlrd>=1.0.0 in ./.venv/lib64/python3.12/site-packages (from datasetsforecast->-r requirements.txt (line 1)) (2.0.1)\n",
      "Requirement already satisfied: cloudpickle in ./.venv/lib64/python3.12/site-packages (from statsforecast->-r requirements.txt (line 2)) (3.1.0)\n",
      "Requirement already satisfied: coreforecast>=0.0.12 in ./.venv/lib64/python3.12/site-packages (from statsforecast->-r requirements.txt (line 2)) (0.0.15)\n",
      "Requirement already satisfied: scipy>=1.7.3 in ./.venv/lib64/python3.12/site-packages (from statsforecast->-r requirements.txt (line 2)) (1.14.1)\n",
      "Requirement already satisfied: statsmodels>=0.13.2 in ./.venv/lib64/python3.12/site-packages (from statsforecast->-r requirements.txt (line 2)) (0.14.4)\n",
      "Requirement already satisfied: threadpoolctl>=3 in ./.venv/lib64/python3.12/site-packages (from statsforecast->-r requirements.txt (line 2)) (3.5.0)\n",
      "Requirement already satisfied: packaging in ./.venv/lib64/python3.12/site-packages (from utilsforecast->-r requirements.txt (line 3)) (24.2)\n",
      "Collecting matplotlib!=3.6.1,>=3.4 (from seaborn->-r requirements.txt (line 4))\n",
      "  Downloading matplotlib-3.9.3-cp312-cp312-manylinux_2_17_x86_64.manylinux2014_x86_64.whl.metadata (11 kB)\n",
      "Requirement already satisfied: triad>=0.9.7 in ./.venv/lib64/python3.12/site-packages (from fugue>=0.8.1->datasetsforecast->-r requirements.txt (line 1)) (0.9.8)\n",
      "Requirement already satisfied: adagio>=0.2.4 in ./.venv/lib64/python3.12/site-packages (from fugue>=0.8.1->datasetsforecast->-r requirements.txt (line 1)) (0.2.6)\n",
      "Collecting contourpy>=1.0.1 (from matplotlib!=3.6.1,>=3.4->seaborn->-r requirements.txt (line 4))\n",
      "  Downloading contourpy-1.3.1-cp312-cp312-manylinux_2_17_x86_64.manylinux2014_x86_64.whl.metadata (5.4 kB)\n",
      "Collecting cycler>=0.10 (from matplotlib!=3.6.1,>=3.4->seaborn->-r requirements.txt (line 4))\n",
      "  Downloading cycler-0.12.1-py3-none-any.whl.metadata (3.8 kB)\n",
      "Collecting fonttools>=4.22.0 (from matplotlib!=3.6.1,>=3.4->seaborn->-r requirements.txt (line 4))\n",
      "  Downloading fonttools-4.55.2-cp312-cp312-manylinux_2_5_x86_64.manylinux1_x86_64.manylinux_2_17_x86_64.manylinux2014_x86_64.whl.metadata (164 kB)\n",
      "Collecting kiwisolver>=1.3.1 (from matplotlib!=3.6.1,>=3.4->seaborn->-r requirements.txt (line 4))\n",
      "  Downloading kiwisolver-1.4.7-cp312-cp312-manylinux_2_17_x86_64.manylinux2014_x86_64.whl.metadata (6.3 kB)\n",
      "Collecting pillow>=8 (from matplotlib!=3.6.1,>=3.4->seaborn->-r requirements.txt (line 4))\n",
      "  Downloading pillow-11.0.0-cp312-cp312-manylinux_2_28_x86_64.whl.metadata (9.1 kB)\n",
      "Collecting pyparsing>=2.3.1 (from matplotlib!=3.6.1,>=3.4->seaborn->-r requirements.txt (line 4))\n",
      "  Downloading pyparsing-3.2.0-py3-none-any.whl.metadata (5.0 kB)\n",
      "Requirement already satisfied: python-dateutil>=2.7 in ./.venv/lib64/python3.12/site-packages (from matplotlib!=3.6.1,>=3.4->seaborn->-r requirements.txt (line 4)) (2.9.0.post0)\n",
      "Requirement already satisfied: llvmlite<0.44,>=0.43.0dev0 in ./.venv/lib64/python3.12/site-packages (from numba->datasetsforecast->-r requirements.txt (line 1)) (0.43.0)\n",
      "Requirement already satisfied: pytz>=2020.1 in ./.venv/lib64/python3.12/site-packages (from pandas->datasetsforecast->-r requirements.txt (line 1)) (2024.2)\n",
      "Requirement already satisfied: tzdata>=2022.7 in ./.venv/lib64/python3.12/site-packages (from pandas->datasetsforecast->-r requirements.txt (line 1)) (2024.2)\n",
      "Requirement already satisfied: patsy>=0.5.6 in ./.venv/lib64/python3.12/site-packages (from statsmodels>=0.13.2->statsforecast->-r requirements.txt (line 2)) (1.0.1)\n",
      "Requirement already satisfied: aiohappyeyeballs>=2.3.0 in ./.venv/lib64/python3.12/site-packages (from aiohttp->datasetsforecast->-r requirements.txt (line 1)) (2.4.4)\n",
      "Requirement already satisfied: aiosignal>=1.1.2 in ./.venv/lib64/python3.12/site-packages (from aiohttp->datasetsforecast->-r requirements.txt (line 1)) (1.3.1)\n",
      "Requirement already satisfied: attrs>=17.3.0 in ./.venv/lib64/python3.12/site-packages (from aiohttp->datasetsforecast->-r requirements.txt (line 1)) (24.2.0)\n",
      "Requirement already satisfied: frozenlist>=1.1.1 in ./.venv/lib64/python3.12/site-packages (from aiohttp->datasetsforecast->-r requirements.txt (line 1)) (1.5.0)\n",
      "Requirement already satisfied: multidict<7.0,>=4.5 in ./.venv/lib64/python3.12/site-packages (from aiohttp->datasetsforecast->-r requirements.txt (line 1)) (6.1.0)\n",
      "Requirement already satisfied: propcache>=0.2.0 in ./.venv/lib64/python3.12/site-packages (from aiohttp->datasetsforecast->-r requirements.txt (line 1)) (0.2.1)\n",
      "Requirement already satisfied: yarl<2.0,>=1.17.0 in ./.venv/lib64/python3.12/site-packages (from aiohttp->datasetsforecast->-r requirements.txt (line 1)) (1.18.3)\n",
      "Requirement already satisfied: charset-normalizer<4,>=2 in ./.venv/lib64/python3.12/site-packages (from requests->datasetsforecast->-r requirements.txt (line 1)) (3.4.0)\n",
      "Requirement already satisfied: idna<4,>=2.5 in ./.venv/lib64/python3.12/site-packages (from requests->datasetsforecast->-r requirements.txt (line 1)) (3.10)\n",
      "Requirement already satisfied: urllib3<3,>=1.21.1 in ./.venv/lib64/python3.12/site-packages (from requests->datasetsforecast->-r requirements.txt (line 1)) (2.2.3)\n",
      "Requirement already satisfied: certifi>=2017.4.17 in ./.venv/lib64/python3.12/site-packages (from requests->datasetsforecast->-r requirements.txt (line 1)) (2024.8.30)\n",
      "Requirement already satisfied: six>=1.5 in ./.venv/lib64/python3.12/site-packages (from python-dateutil>=2.7->matplotlib!=3.6.1,>=3.4->seaborn->-r requirements.txt (line 4)) (1.17.0)\n",
      "Requirement already satisfied: pyarrow>=6.0.1 in ./.venv/lib64/python3.12/site-packages (from triad>=0.9.7->fugue>=0.8.1->datasetsforecast->-r requirements.txt (line 1)) (18.1.0)\n",
      "Requirement already satisfied: fsspec>=2022.5.0 in ./.venv/lib64/python3.12/site-packages (from triad>=0.9.7->fugue>=0.8.1->datasetsforecast->-r requirements.txt (line 1)) (2024.10.0)\n",
      "Requirement already satisfied: fs in ./.venv/lib64/python3.12/site-packages (from triad>=0.9.7->fugue>=0.8.1->datasetsforecast->-r requirements.txt (line 1)) (2.4.16)\n",
      "Requirement already satisfied: appdirs~=1.4.3 in ./.venv/lib64/python3.12/site-packages (from fs->triad>=0.9.7->fugue>=0.8.1->datasetsforecast->-r requirements.txt (line 1)) (1.4.4)\n",
      "Requirement already satisfied: setuptools in ./.venv/lib64/python3.12/site-packages (from fs->triad>=0.9.7->fugue>=0.8.1->datasetsforecast->-r requirements.txt (line 1)) (75.6.0)\n",
      "Downloading seaborn-0.13.2-py3-none-any.whl (294 kB)\n",
      "Downloading matplotlib-3.9.3-cp312-cp312-manylinux_2_17_x86_64.manylinux2014_x86_64.whl (8.3 MB)\n",
      "\u001b[2K   \u001b[90m━━━━━━━━━━━━━━━━━━━━━━━━━━━━━━━━━━━━━━━━\u001b[0m \u001b[32m8.3/8.3 MB\u001b[0m \u001b[31m12.9 MB/s\u001b[0m eta \u001b[36m0:00:00\u001b[0ma \u001b[36m0:00:01\u001b[0m\n",
      "\u001b[?25hDownloading contourpy-1.3.1-cp312-cp312-manylinux_2_17_x86_64.manylinux2014_x86_64.whl (323 kB)\n",
      "Downloading cycler-0.12.1-py3-none-any.whl (8.3 kB)\n",
      "Downloading fonttools-4.55.2-cp312-cp312-manylinux_2_5_x86_64.manylinux1_x86_64.manylinux_2_17_x86_64.manylinux2014_x86_64.whl (4.9 MB)\n",
      "\u001b[2K   \u001b[90m━━━━━━━━━━━━━━━━━━━━━━━━━━━━━━━━━━━━━━━━\u001b[0m \u001b[32m4.9/4.9 MB\u001b[0m \u001b[31m13.1 MB/s\u001b[0m eta \u001b[36m0:00:00\u001b[0ma \u001b[36m0:00:01\u001b[0m\n",
      "\u001b[?25hDownloading kiwisolver-1.4.7-cp312-cp312-manylinux_2_17_x86_64.manylinux2014_x86_64.whl (1.5 MB)\n",
      "\u001b[2K   \u001b[90m━━━━━━━━━━━━━━━━━━━━━━━━━━━━━━━━━━━━━━━━\u001b[0m \u001b[32m1.5/1.5 MB\u001b[0m \u001b[31m13.3 MB/s\u001b[0m eta \u001b[36m0:00:00\u001b[0m\n",
      "\u001b[?25hDownloading pillow-11.0.0-cp312-cp312-manylinux_2_28_x86_64.whl (4.4 MB)\n",
      "\u001b[2K   \u001b[90m━━━━━━━━━━━━━━━━━━━━━━━━━━━━━━━━━━━━━━━━\u001b[0m \u001b[32m4.4/4.4 MB\u001b[0m \u001b[31m13.1 MB/s\u001b[0m eta \u001b[36m0:00:00\u001b[0ma \u001b[36m0:00:01\u001b[0m\n",
      "\u001b[?25hDownloading pyparsing-3.2.0-py3-none-any.whl (106 kB)\n",
      "Installing collected packages: pyparsing, pillow, kiwisolver, fonttools, cycler, contourpy, matplotlib, seaborn\n",
      "Successfully installed contourpy-1.3.1 cycler-0.12.1 fonttools-4.55.2 kiwisolver-1.4.7 matplotlib-3.9.3 pillow-11.0.0 pyparsing-3.2.0 seaborn-0.13.2\n",
      "Note: you may need to restart the kernel to use updated packages.\n"
     ]
    }
   ],
   "source": [
    "pip install -r requirements.txt"
   ]
  },
  {
   "cell_type": "code",
   "execution_count": 2,
   "metadata": {},
   "outputs": [],
   "source": [
    "import pandas as pd\n",
    "import time\n",
    "import numpy as np"
   ]
  },
  {
   "cell_type": "code",
   "execution_count": 3,
   "metadata": {},
   "outputs": [],
   "source": [
    "from datasetsforecast.m4 import M4"
   ]
  },
  {
   "cell_type": "code",
   "execution_count": 4,
   "metadata": {},
   "outputs": [],
   "source": [
    "group = 'Monthly'\n",
    "await M4.async_download('data', group=group)"
   ]
  },
  {
   "cell_type": "code",
   "execution_count": 5,
   "metadata": {},
   "outputs": [],
   "source": [
    "df, *_ = M4.load(directory='data', group=group)\n",
    "n_series = len(np.unique(df.unique_id.values))"
   ]
  },
  {
   "cell_type": "code",
   "execution_count": 6,
   "metadata": {},
   "outputs": [
    {
     "name": "stderr",
     "output_type": "stream",
     "text": [
      "/tmp/ipykernel_85122/2645762365.py:1: FutureWarning: The provided callable <built-in function max> is currently using SeriesGroupBy.max. In a future version of pandas, the provided callable will be used directly. To keep current behavior pass the string \"max\" instead.\n",
      "  df[\"test\"] = df[\"ds\"]>df.groupby(\"unique_id\")[\"ds\"].transform(max)-3\n"
     ]
    }
   ],
   "source": [
    "df[\"test\"] = df[\"ds\"]>df.groupby(\"unique_id\")[\"ds\"].transform(max)-3"
   ]
  },
  {
   "cell_type": "code",
   "execution_count": 37,
   "metadata": {},
   "outputs": [],
   "source": [
    "train = df[df[\"test\"]==0].sort_values(by=[\"unique_id\",\"ds\"])\n",
    "test = df[df[\"test\"]==1].sort_values(by=[\"unique_id\",\"ds\"])"
   ]
  },
  {
   "cell_type": "code",
   "execution_count": 8,
   "metadata": {},
   "outputs": [
    {
     "name": "stderr",
     "output_type": "stream",
     "text": [
      "/home/jan/m4_tests/.venv/lib64/python3.12/site-packages/tqdm/auto.py:21: TqdmWarning: IProgress not found. Please update jupyter and ipywidgets. See https://ipywidgets.readthedocs.io/en/stable/user_install.html\n",
      "  from .autonotebook import tqdm as notebook_tqdm\n"
     ]
    }
   ],
   "source": [
    "from statsforecast import StatsForecast\n",
    "import time"
   ]
  },
  {
   "cell_type": "code",
   "execution_count": 9,
   "metadata": {},
   "outputs": [],
   "source": [
    "from statsforecast.models import (\n",
    "    HoltWinters,\n",
    "    CrostonClassic as Croston, \n",
    "    HistoricAverage,\n",
    "    DynamicOptimizedTheta as DOT,\n",
    "    SeasonalNaive\n",
    ")\n"
   ]
  },
  {
   "cell_type": "code",
   "execution_count": 116,
   "metadata": {},
   "outputs": [],
   "source": [
    "# Create a list of models and instantiation parameters\n",
    "model_names = [\"HoltWinters\",\"CrostonClassic\",\"SeasonalNaive\",\"HistoricAverage\",\"DynamicOptimizedTheta\"]\n",
    "\n",
    "models_classes = [\n",
    "    HoltWinters(),\n",
    "    Croston(),\n",
    "    SeasonalNaive(season_length=12),\n",
    "    HistoricAverage(),\n",
    "    DOT(season_length=12)\n",
    "]"
   ]
  },
  {
   "cell_type": "code",
   "execution_count": 11,
   "metadata": {},
   "outputs": [],
   "source": [
    "model_wrappers = []\n",
    "for model in models_classes:\n",
    "    model_wrappers.append(\n",
    "        StatsForecast( \n",
    "            models=[model],\n",
    "            freq=\"ME\", \n",
    "            fallback_model = SeasonalNaive(season_length=12),\n",
    "            n_jobs=-1,\n",
    "        )\n",
    "    )    \n"
   ]
  },
  {
   "cell_type": "code",
   "execution_count": 12,
   "metadata": {},
   "outputs": [],
   "source": [
    "fit_times = []\n",
    "\n",
    "for model in model_wrappers:\n",
    "    start = time.time()\n",
    "    model.fit(df=train)\n",
    "    fit_times.append(time.time()-start)\n",
    "    "
   ]
  },
  {
   "cell_type": "code",
   "execution_count": 13,
   "metadata": {},
   "outputs": [
    {
     "data": {
      "text/plain": [
       "[3.7768449783325195,\n",
       " 4.698519945144653,\n",
       " 3.8190529346466064,\n",
       " 3.957066059112549,\n",
       " 140.4564459323883]"
      ]
     },
     "execution_count": 13,
     "metadata": {},
     "output_type": "execute_result"
    }
   ],
   "source": [
    "fit_times"
   ]
  },
  {
   "cell_type": "code",
   "execution_count": 14,
   "metadata": {},
   "outputs": [],
   "source": [
    "forecasts = []\n",
    "forecast_times = []\n",
    "\n",
    "for model in model_wrappers:\n",
    "    start = time.time()\n",
    "    forecasts.append(model.predict(h=3))\n",
    "    forecast_times.append(time.time()-start)"
   ]
  },
  {
   "cell_type": "code",
   "execution_count": 15,
   "metadata": {},
   "outputs": [
    {
     "data": {
      "text/plain": [
       "[1.8247456550598145,\n",
       " 1.7690906524658203,\n",
       " 1.908539056777954,\n",
       " 1.8806366920471191,\n",
       " 7.303477048873901]"
      ]
     },
     "execution_count": 15,
     "metadata": {},
     "output_type": "execute_result"
    }
   ],
   "source": [
    "forecast_times"
   ]
  },
  {
   "cell_type": "code",
   "execution_count": 38,
   "metadata": {},
   "outputs": [],
   "source": [
    "from utilsforecast.evaluation import evaluate\n",
    "from utilsforecast.losses import mape, mase, rmse, rmsse\n",
    "from functools import partial\n",
    "\n",
    "metrics = [\n",
    "    mape,\n",
    "    rmse,\n",
    "    partial(mase, seasonality=12),\n",
    "    partial(rmsse, seasonality=12),\n",
    "]"
   ]
  },
  {
   "cell_type": "code",
   "execution_count": 66,
   "metadata": {},
   "outputs": [
    {
     "data": {
      "text/html": [
       "<div>\n",
       "<style scoped>\n",
       "    .dataframe tbody tr th:only-of-type {\n",
       "        vertical-align: middle;\n",
       "    }\n",
       "\n",
       "    .dataframe tbody tr th {\n",
       "        vertical-align: top;\n",
       "    }\n",
       "\n",
       "    .dataframe thead th {\n",
       "        text-align: right;\n",
       "    }\n",
       "</style>\n",
       "<table border=\"1\" class=\"dataframe\">\n",
       "  <thead>\n",
       "    <tr style=\"text-align: right;\">\n",
       "      <th></th>\n",
       "      <th>ds</th>\n",
       "      <th>y</th>\n",
       "      <th>test</th>\n",
       "    </tr>\n",
       "    <tr>\n",
       "      <th>unique_id</th>\n",
       "      <th></th>\n",
       "      <th></th>\n",
       "      <th></th>\n",
       "    </tr>\n",
       "  </thead>\n",
       "  <tbody>\n",
       "    <tr>\n",
       "      <th>M1</th>\n",
       "      <td>485</td>\n",
       "      <td>4700.0</td>\n",
       "      <td>True</td>\n",
       "    </tr>\n",
       "    <tr>\n",
       "      <th>M1</th>\n",
       "      <td>486</td>\n",
       "      <td>4490.0</td>\n",
       "      <td>True</td>\n",
       "    </tr>\n",
       "    <tr>\n",
       "      <th>M1</th>\n",
       "      <td>487</td>\n",
       "      <td>4010.0</td>\n",
       "      <td>True</td>\n",
       "    </tr>\n",
       "    <tr>\n",
       "      <th>M10</th>\n",
       "      <td>382</td>\n",
       "      <td>5350.0</td>\n",
       "      <td>True</td>\n",
       "    </tr>\n",
       "    <tr>\n",
       "      <th>M10</th>\n",
       "      <td>383</td>\n",
       "      <td>5450.0</td>\n",
       "      <td>True</td>\n",
       "    </tr>\n",
       "    <tr>\n",
       "      <th>...</th>\n",
       "      <td>...</td>\n",
       "      <td>...</td>\n",
       "      <td>...</td>\n",
       "    </tr>\n",
       "    <tr>\n",
       "      <th>M9998</th>\n",
       "      <td>86</td>\n",
       "      <td>1010.0</td>\n",
       "      <td>True</td>\n",
       "    </tr>\n",
       "    <tr>\n",
       "      <th>M9998</th>\n",
       "      <td>87</td>\n",
       "      <td>1140.0</td>\n",
       "      <td>True</td>\n",
       "    </tr>\n",
       "    <tr>\n",
       "      <th>M9999</th>\n",
       "      <td>85</td>\n",
       "      <td>3800.0</td>\n",
       "      <td>True</td>\n",
       "    </tr>\n",
       "    <tr>\n",
       "      <th>M9999</th>\n",
       "      <td>86</td>\n",
       "      <td>4400.0</td>\n",
       "      <td>True</td>\n",
       "    </tr>\n",
       "    <tr>\n",
       "      <th>M9999</th>\n",
       "      <td>87</td>\n",
       "      <td>4300.0</td>\n",
       "      <td>True</td>\n",
       "    </tr>\n",
       "  </tbody>\n",
       "</table>\n",
       "<p>144000 rows × 3 columns</p>\n",
       "</div>"
      ],
      "text/plain": [
       "            ds       y  test\n",
       "unique_id                   \n",
       "M1         485  4700.0  True\n",
       "M1         486  4490.0  True\n",
       "M1         487  4010.0  True\n",
       "M10        382  5350.0  True\n",
       "M10        383  5450.0  True\n",
       "...        ...     ...   ...\n",
       "M9998       86  1010.0  True\n",
       "M9998       87  1140.0  True\n",
       "M9999       85  3800.0  True\n",
       "M9999       86  4400.0  True\n",
       "M9999       87  4300.0  True\n",
       "\n",
       "[144000 rows x 3 columns]"
      ]
     },
     "execution_count": 66,
     "metadata": {},
     "output_type": "execute_result"
    }
   ],
   "source": [
    "test"
   ]
  },
  {
   "cell_type": "code",
   "execution_count": 69,
   "metadata": {},
   "outputs": [],
   "source": [
    "test = test.set_index(\"unique_id\")\n",
    "for forecast in forecasts:\n",
    "    test = pd.concat([test,forecast.drop(columns=\"ds\").set_index(\"unique_id\")],axis=1)"
   ]
  },
  {
   "cell_type": "code",
   "execution_count": 74,
   "metadata": {},
   "outputs": [
    {
     "ename": "KeyError",
     "evalue": "\"['test'] not found in axis\"",
     "output_type": "error",
     "traceback": [
      "\u001b[0;31m---------------------------------------------------------------------------\u001b[0m",
      "\u001b[0;31mKeyError\u001b[0m                                  Traceback (most recent call last)",
      "\u001b[1;32m/home/jan/m4_tests/nixtla_checks.ipynb Cell 19\u001b[0m line \u001b[0;36m1\n\u001b[0;32m----> <a href='vscode-notebook-cell:/home/jan/m4_tests/nixtla_checks.ipynb#X26sZmlsZQ%3D%3D?line=0'>1</a>\u001b[0m test \u001b[39m=\u001b[39m test\u001b[39m.\u001b[39;49mdrop(columns\u001b[39m=\u001b[39;49m\u001b[39m\"\u001b[39;49m\u001b[39mtest\u001b[39;49m\u001b[39m\"\u001b[39;49m)\u001b[39m.\u001b[39mreset_index()\n",
      "File \u001b[0;32m~/m4_tests/.venv/lib64/python3.12/site-packages/pandas/core/frame.py:5581\u001b[0m, in \u001b[0;36mDataFrame.drop\u001b[0;34m(self, labels, axis, index, columns, level, inplace, errors)\u001b[0m\n\u001b[1;32m   5433\u001b[0m \u001b[39mdef\u001b[39;00m \u001b[39mdrop\u001b[39m(\n\u001b[1;32m   5434\u001b[0m     \u001b[39mself\u001b[39m,\n\u001b[1;32m   5435\u001b[0m     labels: IndexLabel \u001b[39m|\u001b[39m \u001b[39mNone\u001b[39;00m \u001b[39m=\u001b[39m \u001b[39mNone\u001b[39;00m,\n\u001b[0;32m   (...)\u001b[0m\n\u001b[1;32m   5442\u001b[0m     errors: IgnoreRaise \u001b[39m=\u001b[39m \u001b[39m\"\u001b[39m\u001b[39mraise\u001b[39m\u001b[39m\"\u001b[39m,\n\u001b[1;32m   5443\u001b[0m ) \u001b[39m-\u001b[39m\u001b[39m>\u001b[39m DataFrame \u001b[39m|\u001b[39m \u001b[39mNone\u001b[39;00m:\n\u001b[1;32m   5444\u001b[0m \u001b[39m    \u001b[39m\u001b[39m\"\"\"\u001b[39;00m\n\u001b[1;32m   5445\u001b[0m \u001b[39m    Drop specified labels from rows or columns.\u001b[39;00m\n\u001b[1;32m   5446\u001b[0m \n\u001b[0;32m   (...)\u001b[0m\n\u001b[1;32m   5579\u001b[0m \u001b[39m            weight  1.0     0.8\u001b[39;00m\n\u001b[1;32m   5580\u001b[0m \u001b[39m    \"\"\"\u001b[39;00m\n\u001b[0;32m-> 5581\u001b[0m     \u001b[39mreturn\u001b[39;00m \u001b[39msuper\u001b[39;49m()\u001b[39m.\u001b[39;49mdrop(\n\u001b[1;32m   5582\u001b[0m         labels\u001b[39m=\u001b[39;49mlabels,\n\u001b[1;32m   5583\u001b[0m         axis\u001b[39m=\u001b[39;49maxis,\n\u001b[1;32m   5584\u001b[0m         index\u001b[39m=\u001b[39;49mindex,\n\u001b[1;32m   5585\u001b[0m         columns\u001b[39m=\u001b[39;49mcolumns,\n\u001b[1;32m   5586\u001b[0m         level\u001b[39m=\u001b[39;49mlevel,\n\u001b[1;32m   5587\u001b[0m         inplace\u001b[39m=\u001b[39;49minplace,\n\u001b[1;32m   5588\u001b[0m         errors\u001b[39m=\u001b[39;49merrors,\n\u001b[1;32m   5589\u001b[0m     )\n",
      "File \u001b[0;32m~/m4_tests/.venv/lib64/python3.12/site-packages/pandas/core/generic.py:4788\u001b[0m, in \u001b[0;36mNDFrame.drop\u001b[0;34m(self, labels, axis, index, columns, level, inplace, errors)\u001b[0m\n\u001b[1;32m   4786\u001b[0m \u001b[39mfor\u001b[39;00m axis, labels \u001b[39min\u001b[39;00m axes\u001b[39m.\u001b[39mitems():\n\u001b[1;32m   4787\u001b[0m     \u001b[39mif\u001b[39;00m labels \u001b[39mis\u001b[39;00m \u001b[39mnot\u001b[39;00m \u001b[39mNone\u001b[39;00m:\n\u001b[0;32m-> 4788\u001b[0m         obj \u001b[39m=\u001b[39m obj\u001b[39m.\u001b[39;49m_drop_axis(labels, axis, level\u001b[39m=\u001b[39;49mlevel, errors\u001b[39m=\u001b[39;49merrors)\n\u001b[1;32m   4790\u001b[0m \u001b[39mif\u001b[39;00m inplace:\n\u001b[1;32m   4791\u001b[0m     \u001b[39mself\u001b[39m\u001b[39m.\u001b[39m_update_inplace(obj)\n",
      "File \u001b[0;32m~/m4_tests/.venv/lib64/python3.12/site-packages/pandas/core/generic.py:4830\u001b[0m, in \u001b[0;36mNDFrame._drop_axis\u001b[0;34m(self, labels, axis, level, errors, only_slice)\u001b[0m\n\u001b[1;32m   4828\u001b[0m         new_axis \u001b[39m=\u001b[39m axis\u001b[39m.\u001b[39mdrop(labels, level\u001b[39m=\u001b[39mlevel, errors\u001b[39m=\u001b[39merrors)\n\u001b[1;32m   4829\u001b[0m     \u001b[39melse\u001b[39;00m:\n\u001b[0;32m-> 4830\u001b[0m         new_axis \u001b[39m=\u001b[39m axis\u001b[39m.\u001b[39;49mdrop(labels, errors\u001b[39m=\u001b[39;49merrors)\n\u001b[1;32m   4831\u001b[0m     indexer \u001b[39m=\u001b[39m axis\u001b[39m.\u001b[39mget_indexer(new_axis)\n\u001b[1;32m   4833\u001b[0m \u001b[39m# Case for non-unique axis\u001b[39;00m\n\u001b[1;32m   4834\u001b[0m \u001b[39melse\u001b[39;00m:\n",
      "File \u001b[0;32m~/m4_tests/.venv/lib64/python3.12/site-packages/pandas/core/indexes/base.py:7070\u001b[0m, in \u001b[0;36mIndex.drop\u001b[0;34m(self, labels, errors)\u001b[0m\n\u001b[1;32m   7068\u001b[0m \u001b[39mif\u001b[39;00m mask\u001b[39m.\u001b[39many():\n\u001b[1;32m   7069\u001b[0m     \u001b[39mif\u001b[39;00m errors \u001b[39m!=\u001b[39m \u001b[39m\"\u001b[39m\u001b[39mignore\u001b[39m\u001b[39m\"\u001b[39m:\n\u001b[0;32m-> 7070\u001b[0m         \u001b[39mraise\u001b[39;00m \u001b[39mKeyError\u001b[39;00m(\u001b[39mf\u001b[39m\u001b[39m\"\u001b[39m\u001b[39m{\u001b[39;00mlabels[mask]\u001b[39m.\u001b[39mtolist()\u001b[39m}\u001b[39;00m\u001b[39m not found in axis\u001b[39m\u001b[39m\"\u001b[39m)\n\u001b[1;32m   7071\u001b[0m     indexer \u001b[39m=\u001b[39m indexer[\u001b[39m~\u001b[39mmask]\n\u001b[1;32m   7072\u001b[0m \u001b[39mreturn\u001b[39;00m \u001b[39mself\u001b[39m\u001b[39m.\u001b[39mdelete(indexer)\n",
      "\u001b[0;31mKeyError\u001b[0m: \"['test'] not found in axis\""
     ]
    }
   ],
   "source": [
    "test = test.drop(columns=\"test\").reset_index()"
   ]
  },
  {
   "cell_type": "code",
   "execution_count": 76,
   "metadata": {},
   "outputs": [],
   "source": [
    "test = test.reset_index()"
   ]
  },
  {
   "cell_type": "code",
   "execution_count": 77,
   "metadata": {},
   "outputs": [],
   "source": [
    "eval = evaluate(test, metrics=metrics, train_df=train)"
   ]
  },
  {
   "cell_type": "code",
   "execution_count": 113,
   "metadata": {},
   "outputs": [],
   "source": [
    "metrics = eval.set_index([\"unique_id\",\"metric\"]).stack().rename_axis(index={None: 'Model'}).rename(\"value\")"
   ]
  },
  {
   "cell_type": "code",
   "execution_count": 117,
   "metadata": {},
   "outputs": [],
   "source": [
    "times = pd.DataFrame(\n",
    "    {\n",
    "        \"Model\":model_names,\n",
    "        \"fit_times\":fit_times,\n",
    "        \"forecast_times\":forecast_times\n",
    "    }\n",
    ").set_index(\"Model\")"
   ]
  },
  {
   "cell_type": "code",
   "execution_count": 95,
   "metadata": {},
   "outputs": [
    {
     "data": {
      "text/html": [
       "<div>\n",
       "<style scoped>\n",
       "    .dataframe tbody tr th:only-of-type {\n",
       "        vertical-align: middle;\n",
       "    }\n",
       "\n",
       "    .dataframe tbody tr th {\n",
       "        vertical-align: top;\n",
       "    }\n",
       "\n",
       "    .dataframe thead th {\n",
       "        text-align: right;\n",
       "    }\n",
       "</style>\n",
       "<table border=\"1\" class=\"dataframe\">\n",
       "  <thead>\n",
       "    <tr style=\"text-align: right;\">\n",
       "      <th>Model</th>\n",
       "      <th>CrostonClassic</th>\n",
       "      <th>DynamicOptimizedTheta</th>\n",
       "      <th>HistoricAverage</th>\n",
       "      <th>HoltWinters</th>\n",
       "      <th>SeasonalNaive</th>\n",
       "    </tr>\n",
       "    <tr>\n",
       "      <th>metric</th>\n",
       "      <th></th>\n",
       "      <th></th>\n",
       "      <th></th>\n",
       "      <th></th>\n",
       "      <th></th>\n",
       "    </tr>\n",
       "  </thead>\n",
       "  <tbody>\n",
       "    <tr>\n",
       "      <th>mape</th>\n",
       "      <td>0.064953</td>\n",
       "      <td>0.034828</td>\n",
       "      <td>0.257880</td>\n",
       "      <td>0.069984</td>\n",
       "      <td>0.069984</td>\n",
       "    </tr>\n",
       "    <tr>\n",
       "      <th>mase</th>\n",
       "      <td>0.749038</td>\n",
       "      <td>0.391666</td>\n",
       "      <td>2.563586</td>\n",
       "      <td>0.775449</td>\n",
       "      <td>0.775449</td>\n",
       "    </tr>\n",
       "    <tr>\n",
       "      <th>rmse</th>\n",
       "      <td>256.067470</td>\n",
       "      <td>136.003725</td>\n",
       "      <td>927.576122</td>\n",
       "      <td>267.040967</td>\n",
       "      <td>267.040967</td>\n",
       "    </tr>\n",
       "    <tr>\n",
       "      <th>rmsse</th>\n",
       "      <td>0.616899</td>\n",
       "      <td>0.336552</td>\n",
       "      <td>1.988234</td>\n",
       "      <td>0.649283</td>\n",
       "      <td>0.649283</td>\n",
       "    </tr>\n",
       "  </tbody>\n",
       "</table>\n",
       "</div>"
      ],
      "text/plain": [
       "Model   CrostonClassic  DynamicOptimizedTheta  HistoricAverage  HoltWinters  \\\n",
       "metric                                                                        \n",
       "mape          0.064953               0.034828         0.257880     0.069984   \n",
       "mase          0.749038               0.391666         2.563586     0.775449   \n",
       "rmse        256.067470             136.003725       927.576122   267.040967   \n",
       "rmsse         0.616899               0.336552         1.988234     0.649283   \n",
       "\n",
       "Model   SeasonalNaive  \n",
       "metric                 \n",
       "mape         0.069984  \n",
       "mase         0.775449  \n",
       "rmse       267.040967  \n",
       "rmsse        0.649283  "
      ]
     },
     "execution_count": 95,
     "metadata": {},
     "output_type": "execute_result"
    }
   ],
   "source": [
    "metrics.groupby(level=[1,2]).median().unstack()"
   ]
  },
  {
   "cell_type": "code",
   "execution_count": 137,
   "metadata": {},
   "outputs": [],
   "source": [
    "md = metrics.groupby(level=[1,2]).mean().to_frame().join(times).set_index(\"value\",append=True).stack().rename_axis(index={None: 'time'}).rename(\"time_value\").reset_index()"
   ]
  },
  {
   "cell_type": "code",
   "execution_count": 129,
   "metadata": {},
   "outputs": [
    {
     "name": "stderr",
     "output_type": "stream",
     "text": [
      "INFO:matplotlib.font_manager:Failed to extract font properties from /usr/share/fonts/google-noto-color-emoji-fonts/NotoColorEmoji.ttf: In FT2Font: Can not load face (unknown file format; error code 0x2)\n",
      "INFO:matplotlib.font_manager:Failed to extract font properties from /usr/share/fonts/google-noto-sans-cjk-vf-fonts/NotoSansCJK-VF.ttc: In FT2Font: Can not load face (SFNT font table missing; error code 0x8e)\n",
      "INFO:matplotlib.font_manager:Failed to extract font properties from /usr/share/fonts/google-noto-sans-mono-cjk-vf-fonts/NotoSansMonoCJK-VF.ttc: In FT2Font: Can not load face (SFNT font table missing; error code 0x8e)\n",
      "INFO:matplotlib.font_manager:Failed to extract font properties from /usr/share/fonts/abattis-cantarell-vf-fonts/Cantarell-VF.otf: In FT2Font: Can not load face (SFNT font table missing; error code 0x8e)\n",
      "INFO:matplotlib.font_manager:Failed to extract font properties from /usr/share/fonts/google-noto-serif-cjk-vf-fonts/NotoSerifCJK-VF.ttc: In FT2Font: Can not load face (SFNT font table missing; error code 0x8e)\n",
      "INFO:matplotlib.font_manager:generated new fontManager\n"
     ]
    }
   ],
   "source": [
    "import seaborn as sns"
   ]
  },
  {
   "cell_type": "code",
   "execution_count": 143,
   "metadata": {},
   "outputs": [
    {
     "data": {
      "text/plain": [
       "<seaborn.axisgrid.FacetGrid at 0x7f17a1d54ec0>"
      ]
     },
     "execution_count": 143,
     "metadata": {},
     "output_type": "execute_result"
    },
    {
     "data": {
      "image/png": "[encoded data removed]",
      "text/plain": [
       "<Figure size 1422.5x600 with 8 Axes>"
      ]
     },
     "metadata": {},
     "output_type": "display_data"
    }
   ],
   "source": [
    "import matplotlib.pyplot as plt\n",
    "g = sns.FacetGrid(md, row= \"time\", col=\"metric\", hue = \"Model\",sharey=False,sharex=False)\n",
    "g = g.map(plt.scatter, \"time_value\", \"value\")\n",
    "g.add_legend()"
   ]
  }
 ],
 "metadata": {
  "kernelspec": {
   "display_name": ".venv",
   "language": "python",
   "name": "python3"
  },
  "language_info": {
   "codemirror_mode": {
    "name": "ipython",
    "version": 3
   },
   "file_extension": ".py",
   "mimetype": "text/x-python",
   "name": "python",
   "nbconvert_exporter": "python",
   "pygments_lexer": "ipython3",
   "version": "3.12.7"
  }
 },
 "nbformat": 4,
 "nbformat_minor": 2
}
